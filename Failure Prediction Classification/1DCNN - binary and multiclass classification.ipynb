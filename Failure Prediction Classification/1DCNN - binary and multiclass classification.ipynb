{
 "cells": [
  {
   "cell_type": "markdown",
   "metadata": {},
   "source": [
    "## 1D CNN Time Series Classification"
   ]
  },
  {
   "cell_type": "markdown",
   "metadata": {},
   "source": [
    "### Importing Required Libraries and Data"
   ]
  },
  {
   "cell_type": "code",
   "execution_count": 1,
   "metadata": {},
   "outputs": [
    {
     "name": "stdout",
     "output_type": "stream",
     "text": [
      "Init Plugin\n",
      "Init Graph Optimizer\n",
      "Init Kernel\n"
     ]
    }
   ],
   "source": [
    "import pandas as pd\n",
    "import numpy as np\n",
    "#to plot the data\n",
    "import matplotlib.pyplot as plt\n",
    "import seaborn as sns\n",
    "%matplotlib inline\n",
    "#import matplotlib as mpl\n",
    "#mpl.rcParams.update(mpl.rcParamsDefault)\n",
    "import time\n",
    "import os\n",
    "os.chdir(\"/Users/tomxu/Documents/NASA-Jet-Engine-Maintenance/Data/CMaps/\")\n",
    "from sklearn.preprocessing import MinMaxScaler #to normalize data\n",
    "from sklearn.metrics import classification_report, confusion_matrix, roc_curve\n",
    "from sklearn.metrics import f1_score, roc_auc_score, accuracy_score, precision_score, recall_score\n",
    "from sklearn.utils import class_weight\n",
    "#for deep learning\n",
    "import tensorflow.keras\n",
    "import tensorflow.keras.backend as k\n",
    "from tensorflow.keras.models import Sequential\n",
    "from tensorflow.keras.layers import Dense, LSTM, Activation, Masking, Dropout, Conv1D, GlobalAveragePooling1D, MaxPooling1D\n",
    "from tensorflow.keras.optimizers import RMSprop, Adam\n",
    "from tensorflow.keras.regularizers import l2\n",
    "from tensorflow.keras.callbacks import History\n",
    "from tensorflow.keras import callbacks\n",
    "from tensorflow.keras.utils import to_categorical"
   ]
  },
  {
   "cell_type": "code",
   "execution_count": 2,
   "metadata": {},
   "outputs": [],
   "source": [
    "def prepare_data(drop_cols = True):\n",
    "    dependent_var = ['RUL']\n",
    "    index_columns_names =  [\"UnitNumber\",\"Cycle\"]\n",
    "    operational_settings_columns_names = [\"OpSet\"+str(i) for i in range(1,4)]\n",
    "    sensor_measure_columns_names =[\"SensorMeasure\"+str(i) for i in range(1,22)]\n",
    "    input_file_column_names = index_columns_names + operational_settings_columns_names + sensor_measure_columns_names\n",
    "    cols_to_drop = ['OpSet3', 'SensorMeasure1', 'SensorMeasure5', 'SensorMeasure6', 'SensorMeasure10',\n",
    "                    'SensorMeasure14', 'SensorMeasure16', 'SensorMeasure18', 'SensorMeasure19']\n",
    "    df_train = pd.read_csv('train_FD001.txt',delim_whitespace=True,names=input_file_column_names)\n",
    "    rul = pd.DataFrame(df_train.groupby('UnitNumber')['Cycle'].max()).reset_index()\n",
    "    rul.columns = ['UnitNumber', 'max']\n",
    "    df_train = df_train.merge(rul, on=['UnitNumber'], how='left')\n",
    "    df_train['RUL'] = df_train['max'] - df_train['Cycle']\n",
    "    df_train.drop('max', axis=1, inplace=True)\n",
    "    df_train['failure_lbl_1'] = [1 if i < 50 else 0 for i in df_train.RUL]\n",
    "    df_train['failure_lbl_2'] = df_train['failure_lbl_1']\n",
    "    df_train['failure_lbl_2']=np.where(df_train.RUL < 25, 2, df_train['failure_lbl_2'])\n",
    "    df_test = pd.read_csv('test_FD001.txt', delim_whitespace=True, names=input_file_column_names)    \n",
    "    if(drop_cols == True):\n",
    "        df_train = df_train.drop(cols_to_drop, axis = 1)\n",
    "        df_test = df_test.drop(cols_to_drop, axis = 1)\n",
    "    y_true = pd.read_csv('RUL_FD001.txt', delim_whitespace=True,names=[\"RUL\"])\n",
    "    y_true[\"UnitNumber\"] = y_true.index\n",
    "    y_true['failure_lbl_1'] = [1 if i < 50 else 0 for i in y_true.RUL]\n",
    "    y_true['failure_lbl_2'] = y_true['failure_lbl_1']\n",
    "    y_true['failure_lbl_2'] = np.where(y_true.RUL < 25, 2, y_true['failure_lbl_2'])    \n",
    "    return df_train, df_test, y_true"
   ]
  },
  {
   "cell_type": "code",
   "execution_count": 3,
   "metadata": {},
   "outputs": [
    {
     "data": {
      "text/plain": [
       "((20631, 20), (13096, 17), (100, 4))"
      ]
     },
     "execution_count": 3,
     "metadata": {},
     "output_type": "execute_result"
    }
   ],
   "source": [
    "df_train, df_test, y_true = prepare_data(drop_cols=True)\n",
    "df_train.shape, df_test.shape, y_true.shape"
   ]
  },
  {
   "cell_type": "code",
   "execution_count": 4,
   "metadata": {},
   "outputs": [],
   "source": [
    "feats = df_train.columns.drop(['UnitNumber', 'Cycle', 'RUL', 'failure_lbl_1', 'failure_lbl_2'])"
   ]
  },
  {
   "cell_type": "code",
   "execution_count": 5,
   "metadata": {},
   "outputs": [],
   "source": [
    "min_max_scaler = MinMaxScaler(feature_range=(-1,1))\n",
    "df_train[feats] = min_max_scaler.fit_transform(df_train[feats])\n",
    "df_test[feats] = min_max_scaler.transform(df_test[feats])"
   ]
  },
  {
   "cell_type": "code",
   "execution_count": 6,
   "metadata": {
    "scrolled": true
   },
   "outputs": [
    {
     "data": {
      "text/html": [
       "<div>\n",
       "<style scoped>\n",
       "    .dataframe tbody tr th:only-of-type {\n",
       "        vertical-align: middle;\n",
       "    }\n",
       "\n",
       "    .dataframe tbody tr th {\n",
       "        vertical-align: top;\n",
       "    }\n",
       "\n",
       "    .dataframe thead th {\n",
       "        text-align: right;\n",
       "    }\n",
       "</style>\n",
       "<table border=\"1\" class=\"dataframe\">\n",
       "  <thead>\n",
       "    <tr style=\"text-align: right;\">\n",
       "      <th></th>\n",
       "      <th>UnitNumber</th>\n",
       "      <th>Cycle</th>\n",
       "      <th>OpSet1</th>\n",
       "      <th>OpSet2</th>\n",
       "      <th>SensorMeasure2</th>\n",
       "      <th>SensorMeasure3</th>\n",
       "      <th>SensorMeasure4</th>\n",
       "      <th>SensorMeasure7</th>\n",
       "      <th>SensorMeasure8</th>\n",
       "      <th>SensorMeasure9</th>\n",
       "      <th>SensorMeasure11</th>\n",
       "      <th>SensorMeasure12</th>\n",
       "      <th>SensorMeasure13</th>\n",
       "      <th>SensorMeasure15</th>\n",
       "      <th>SensorMeasure17</th>\n",
       "      <th>SensorMeasure20</th>\n",
       "      <th>SensorMeasure21</th>\n",
       "      <th>RUL</th>\n",
       "      <th>failure_lbl_1</th>\n",
       "      <th>failure_lbl_2</th>\n",
       "    </tr>\n",
       "  </thead>\n",
       "  <tbody>\n",
       "    <tr>\n",
       "      <th>0</th>\n",
       "      <td>1</td>\n",
       "      <td>1</td>\n",
       "      <td>-0.080460</td>\n",
       "      <td>-0.666667</td>\n",
       "      <td>-0.632530</td>\n",
       "      <td>-0.186396</td>\n",
       "      <td>-0.380486</td>\n",
       "      <td>0.452496</td>\n",
       "      <td>-0.515152</td>\n",
       "      <td>-0.780490</td>\n",
       "      <td>-0.261905</td>\n",
       "      <td>0.266525</td>\n",
       "      <td>-0.588235</td>\n",
       "      <td>-0.272028</td>\n",
       "      <td>-0.333333</td>\n",
       "      <td>0.426357</td>\n",
       "      <td>0.449323</td>\n",
       "      <td>191</td>\n",
       "      <td>0</td>\n",
       "      <td>0</td>\n",
       "    </tr>\n",
       "    <tr>\n",
       "      <th>1</th>\n",
       "      <td>1</td>\n",
       "      <td>2</td>\n",
       "      <td>0.218391</td>\n",
       "      <td>-0.500000</td>\n",
       "      <td>-0.433735</td>\n",
       "      <td>-0.093961</td>\n",
       "      <td>-0.294733</td>\n",
       "      <td>0.256039</td>\n",
       "      <td>-0.575758</td>\n",
       "      <td>-0.799515</td>\n",
       "      <td>-0.238095</td>\n",
       "      <td>0.530917</td>\n",
       "      <td>-0.441176</td>\n",
       "      <td>-0.177376</td>\n",
       "      <td>-0.333333</td>\n",
       "      <td>0.333333</td>\n",
       "      <td>0.462027</td>\n",
       "      <td>190</td>\n",
       "      <td>0</td>\n",
       "      <td>0</td>\n",
       "    </tr>\n",
       "    <tr>\n",
       "      <th>2</th>\n",
       "      <td>1</td>\n",
       "      <td>3</td>\n",
       "      <td>-0.494253</td>\n",
       "      <td>0.500000</td>\n",
       "      <td>-0.313253</td>\n",
       "      <td>-0.260955</td>\n",
       "      <td>-0.258947</td>\n",
       "      <td>0.420290</td>\n",
       "      <td>-0.454545</td>\n",
       "      <td>-0.719914</td>\n",
       "      <td>-0.500000</td>\n",
       "      <td>0.590618</td>\n",
       "      <td>-0.558824</td>\n",
       "      <td>-0.285110</td>\n",
       "      <td>-0.666667</td>\n",
       "      <td>0.255814</td>\n",
       "      <td>0.242751</td>\n",
       "      <td>189</td>\n",
       "      <td>0</td>\n",
       "      <td>0</td>\n",
       "    </tr>\n",
       "    <tr>\n",
       "      <th>3</th>\n",
       "      <td>1</td>\n",
       "      <td>4</td>\n",
       "      <td>0.080460</td>\n",
       "      <td>0.000000</td>\n",
       "      <td>-0.313253</td>\n",
       "      <td>-0.487683</td>\n",
       "      <td>-0.337610</td>\n",
       "      <td>0.481481</td>\n",
       "      <td>-0.363636</td>\n",
       "      <td>-0.750965</td>\n",
       "      <td>-0.666667</td>\n",
       "      <td>0.778252</td>\n",
       "      <td>-0.411765</td>\n",
       "      <td>-0.666795</td>\n",
       "      <td>-0.333333</td>\n",
       "      <td>0.147287</td>\n",
       "      <td>0.324772</td>\n",
       "      <td>188</td>\n",
       "      <td>0</td>\n",
       "      <td>0</td>\n",
       "    </tr>\n",
       "    <tr>\n",
       "      <th>4</th>\n",
       "      <td>1</td>\n",
       "      <td>5</td>\n",
       "      <td>-0.218391</td>\n",
       "      <td>-0.333333</td>\n",
       "      <td>-0.301205</td>\n",
       "      <td>-0.485066</td>\n",
       "      <td>-0.190749</td>\n",
       "      <td>0.336554</td>\n",
       "      <td>-0.515152</td>\n",
       "      <td>-0.700081</td>\n",
       "      <td>-0.488095</td>\n",
       "      <td>0.492537</td>\n",
       "      <td>-0.529412</td>\n",
       "      <td>-0.195845</td>\n",
       "      <td>-0.166667</td>\n",
       "      <td>0.178295</td>\n",
       "      <td>0.409003</td>\n",
       "      <td>187</td>\n",
       "      <td>0</td>\n",
       "      <td>0</td>\n",
       "    </tr>\n",
       "  </tbody>\n",
       "</table>\n",
       "</div>"
      ],
      "text/plain": [
       "   UnitNumber  Cycle    OpSet1    OpSet2  SensorMeasure2  SensorMeasure3  \\\n",
       "0           1      1 -0.080460 -0.666667       -0.632530       -0.186396   \n",
       "1           1      2  0.218391 -0.500000       -0.433735       -0.093961   \n",
       "2           1      3 -0.494253  0.500000       -0.313253       -0.260955   \n",
       "3           1      4  0.080460  0.000000       -0.313253       -0.487683   \n",
       "4           1      5 -0.218391 -0.333333       -0.301205       -0.485066   \n",
       "\n",
       "   SensorMeasure4  SensorMeasure7  SensorMeasure8  SensorMeasure9  \\\n",
       "0       -0.380486        0.452496       -0.515152       -0.780490   \n",
       "1       -0.294733        0.256039       -0.575758       -0.799515   \n",
       "2       -0.258947        0.420290       -0.454545       -0.719914   \n",
       "3       -0.337610        0.481481       -0.363636       -0.750965   \n",
       "4       -0.190749        0.336554       -0.515152       -0.700081   \n",
       "\n",
       "   SensorMeasure11  SensorMeasure12  SensorMeasure13  SensorMeasure15  \\\n",
       "0        -0.261905         0.266525        -0.588235        -0.272028   \n",
       "1        -0.238095         0.530917        -0.441176        -0.177376   \n",
       "2        -0.500000         0.590618        -0.558824        -0.285110   \n",
       "3        -0.666667         0.778252        -0.411765        -0.666795   \n",
       "4        -0.488095         0.492537        -0.529412        -0.195845   \n",
       "\n",
       "   SensorMeasure17  SensorMeasure20  SensorMeasure21  RUL  failure_lbl_1  \\\n",
       "0        -0.333333         0.426357         0.449323  191              0   \n",
       "1        -0.333333         0.333333         0.462027  190              0   \n",
       "2        -0.666667         0.255814         0.242751  189              0   \n",
       "3        -0.333333         0.147287         0.324772  188              0   \n",
       "4        -0.166667         0.178295         0.409003  187              0   \n",
       "\n",
       "   failure_lbl_2  \n",
       "0              0  \n",
       "1              0  \n",
       "2              0  \n",
       "3              0  \n",
       "4              0  "
      ]
     },
     "execution_count": 6,
     "metadata": {},
     "output_type": "execute_result"
    }
   ],
   "source": [
    "df_train.head()"
   ]
  },
  {
   "cell_type": "code",
   "execution_count": 7,
   "metadata": {},
   "outputs": [
    {
     "data": {
      "text/html": [
       "<div>\n",
       "<style scoped>\n",
       "    .dataframe tbody tr th:only-of-type {\n",
       "        vertical-align: middle;\n",
       "    }\n",
       "\n",
       "    .dataframe tbody tr th {\n",
       "        vertical-align: top;\n",
       "    }\n",
       "\n",
       "    .dataframe thead th {\n",
       "        text-align: right;\n",
       "    }\n",
       "</style>\n",
       "<table border=\"1\" class=\"dataframe\">\n",
       "  <thead>\n",
       "    <tr style=\"text-align: right;\">\n",
       "      <th></th>\n",
       "      <th>UnitNumber</th>\n",
       "      <th>Cycle</th>\n",
       "      <th>OpSet1</th>\n",
       "      <th>OpSet2</th>\n",
       "      <th>SensorMeasure2</th>\n",
       "      <th>SensorMeasure3</th>\n",
       "      <th>SensorMeasure4</th>\n",
       "      <th>SensorMeasure7</th>\n",
       "      <th>SensorMeasure8</th>\n",
       "      <th>SensorMeasure9</th>\n",
       "      <th>SensorMeasure11</th>\n",
       "      <th>SensorMeasure12</th>\n",
       "      <th>SensorMeasure13</th>\n",
       "      <th>SensorMeasure15</th>\n",
       "      <th>SensorMeasure17</th>\n",
       "      <th>SensorMeasure20</th>\n",
       "      <th>SensorMeasure21</th>\n",
       "    </tr>\n",
       "  </thead>\n",
       "  <tbody>\n",
       "    <tr>\n",
       "      <th>0</th>\n",
       "      <td>1</td>\n",
       "      <td>1</td>\n",
       "      <td>0.264368</td>\n",
       "      <td>0.500000</td>\n",
       "      <td>0.090361</td>\n",
       "      <td>-0.378679</td>\n",
       "      <td>-0.461175</td>\n",
       "      <td>0.304348</td>\n",
       "      <td>-0.575758</td>\n",
       "      <td>-0.744773</td>\n",
       "      <td>-0.583333</td>\n",
       "      <td>0.292111</td>\n",
       "      <td>-0.558824</td>\n",
       "      <td>-0.382070</td>\n",
       "      <td>-0.333333</td>\n",
       "      <td>0.116279</td>\n",
       "      <td>0.323667</td>\n",
       "    </tr>\n",
       "    <tr>\n",
       "      <th>1</th>\n",
       "      <td>1</td>\n",
       "      <td>2</td>\n",
       "      <td>-0.310345</td>\n",
       "      <td>-0.500000</td>\n",
       "      <td>-0.698795</td>\n",
       "      <td>-0.240898</td>\n",
       "      <td>-0.555368</td>\n",
       "      <td>0.610306</td>\n",
       "      <td>-0.666667</td>\n",
       "      <td>-0.706632</td>\n",
       "      <td>-0.226190</td>\n",
       "      <td>0.479744</td>\n",
       "      <td>-0.470588</td>\n",
       "      <td>-0.573682</td>\n",
       "      <td>-0.166667</td>\n",
       "      <td>0.364341</td>\n",
       "      <td>0.373654</td>\n",
       "    </tr>\n",
       "    <tr>\n",
       "      <th>2</th>\n",
       "      <td>1</td>\n",
       "      <td>3</td>\n",
       "      <td>0.034483</td>\n",
       "      <td>0.166667</td>\n",
       "      <td>-0.246988</td>\n",
       "      <td>-0.306736</td>\n",
       "      <td>-0.355503</td>\n",
       "      <td>0.371981</td>\n",
       "      <td>-0.545455</td>\n",
       "      <td>-0.683837</td>\n",
       "      <td>-0.226190</td>\n",
       "      <td>0.398721</td>\n",
       "      <td>-0.558824</td>\n",
       "      <td>-0.082724</td>\n",
       "      <td>-0.166667</td>\n",
       "      <td>0.457364</td>\n",
       "      <td>0.442695</td>\n",
       "    </tr>\n",
       "    <tr>\n",
       "      <th>3</th>\n",
       "      <td>1</td>\n",
       "      <td>4</td>\n",
       "      <td>0.482759</td>\n",
       "      <td>0.000000</td>\n",
       "      <td>-0.259036</td>\n",
       "      <td>-0.429693</td>\n",
       "      <td>-0.183997</td>\n",
       "      <td>0.359098</td>\n",
       "      <td>-0.606061</td>\n",
       "      <td>-0.788567</td>\n",
       "      <td>-0.488095</td>\n",
       "      <td>0.147122</td>\n",
       "      <td>-0.500000</td>\n",
       "      <td>-0.485956</td>\n",
       "      <td>-0.500000</td>\n",
       "      <td>0.333333</td>\n",
       "      <td>0.324220</td>\n",
       "    </tr>\n",
       "    <tr>\n",
       "      <th>4</th>\n",
       "      <td>1</td>\n",
       "      <td>5</td>\n",
       "      <td>0.160920</td>\n",
       "      <td>0.000000</td>\n",
       "      <td>-0.216867</td>\n",
       "      <td>-0.295836</td>\n",
       "      <td>-0.335922</td>\n",
       "      <td>0.388084</td>\n",
       "      <td>-0.666667</td>\n",
       "      <td>-0.795208</td>\n",
       "      <td>-0.452381</td>\n",
       "      <td>0.475480</td>\n",
       "      <td>-0.558824</td>\n",
       "      <td>-0.398230</td>\n",
       "      <td>-0.666667</td>\n",
       "      <td>0.317829</td>\n",
       "      <td>0.432753</td>\n",
       "    </tr>\n",
       "  </tbody>\n",
       "</table>\n",
       "</div>"
      ],
      "text/plain": [
       "   UnitNumber  Cycle    OpSet1    OpSet2  SensorMeasure2  SensorMeasure3  \\\n",
       "0           1      1  0.264368  0.500000        0.090361       -0.378679   \n",
       "1           1      2 -0.310345 -0.500000       -0.698795       -0.240898   \n",
       "2           1      3  0.034483  0.166667       -0.246988       -0.306736   \n",
       "3           1      4  0.482759  0.000000       -0.259036       -0.429693   \n",
       "4           1      5  0.160920  0.000000       -0.216867       -0.295836   \n",
       "\n",
       "   SensorMeasure4  SensorMeasure7  SensorMeasure8  SensorMeasure9  \\\n",
       "0       -0.461175        0.304348       -0.575758       -0.744773   \n",
       "1       -0.555368        0.610306       -0.666667       -0.706632   \n",
       "2       -0.355503        0.371981       -0.545455       -0.683837   \n",
       "3       -0.183997        0.359098       -0.606061       -0.788567   \n",
       "4       -0.335922        0.388084       -0.666667       -0.795208   \n",
       "\n",
       "   SensorMeasure11  SensorMeasure12  SensorMeasure13  SensorMeasure15  \\\n",
       "0        -0.583333         0.292111        -0.558824        -0.382070   \n",
       "1        -0.226190         0.479744        -0.470588        -0.573682   \n",
       "2        -0.226190         0.398721        -0.558824        -0.082724   \n",
       "3        -0.488095         0.147122        -0.500000        -0.485956   \n",
       "4        -0.452381         0.475480        -0.558824        -0.398230   \n",
       "\n",
       "   SensorMeasure17  SensorMeasure20  SensorMeasure21  \n",
       "0        -0.333333         0.116279         0.323667  \n",
       "1        -0.166667         0.364341         0.373654  \n",
       "2        -0.166667         0.457364         0.442695  \n",
       "3        -0.500000         0.333333         0.324220  \n",
       "4        -0.666667         0.317829         0.432753  "
      ]
     },
     "execution_count": 7,
     "metadata": {},
     "output_type": "execute_result"
    }
   ],
   "source": [
    "df_test.head()"
   ]
  },
  {
   "cell_type": "code",
   "execution_count": 8,
   "metadata": {},
   "outputs": [
    {
     "data": {
      "text/html": [
       "<div>\n",
       "<style scoped>\n",
       "    .dataframe tbody tr th:only-of-type {\n",
       "        vertical-align: middle;\n",
       "    }\n",
       "\n",
       "    .dataframe tbody tr th {\n",
       "        vertical-align: top;\n",
       "    }\n",
       "\n",
       "    .dataframe thead th {\n",
       "        text-align: right;\n",
       "    }\n",
       "</style>\n",
       "<table border=\"1\" class=\"dataframe\">\n",
       "  <thead>\n",
       "    <tr style=\"text-align: right;\">\n",
       "      <th></th>\n",
       "      <th>RUL</th>\n",
       "      <th>UnitNumber</th>\n",
       "      <th>failure_lbl_1</th>\n",
       "      <th>failure_lbl_2</th>\n",
       "    </tr>\n",
       "  </thead>\n",
       "  <tbody>\n",
       "    <tr>\n",
       "      <th>0</th>\n",
       "      <td>112</td>\n",
       "      <td>0</td>\n",
       "      <td>0</td>\n",
       "      <td>0</td>\n",
       "    </tr>\n",
       "    <tr>\n",
       "      <th>1</th>\n",
       "      <td>98</td>\n",
       "      <td>1</td>\n",
       "      <td>0</td>\n",
       "      <td>0</td>\n",
       "    </tr>\n",
       "    <tr>\n",
       "      <th>2</th>\n",
       "      <td>69</td>\n",
       "      <td>2</td>\n",
       "      <td>0</td>\n",
       "      <td>0</td>\n",
       "    </tr>\n",
       "    <tr>\n",
       "      <th>3</th>\n",
       "      <td>82</td>\n",
       "      <td>3</td>\n",
       "      <td>0</td>\n",
       "      <td>0</td>\n",
       "    </tr>\n",
       "    <tr>\n",
       "      <th>4</th>\n",
       "      <td>91</td>\n",
       "      <td>4</td>\n",
       "      <td>0</td>\n",
       "      <td>0</td>\n",
       "    </tr>\n",
       "  </tbody>\n",
       "</table>\n",
       "</div>"
      ],
      "text/plain": [
       "   RUL  UnitNumber  failure_lbl_1  failure_lbl_2\n",
       "0  112           0              0              0\n",
       "1   98           1              0              0\n",
       "2   69           2              0              0\n",
       "3   82           3              0              0\n",
       "4   91           4              0              0"
      ]
     },
     "execution_count": 8,
     "metadata": {},
     "output_type": "execute_result"
    }
   ],
   "source": [
    "y_true.head()"
   ]
  },
  {
   "cell_type": "markdown",
   "metadata": {},
   "source": [
    "1D CNN expects an input in the shape of a numpy array of 3 dimensions and I will need to convert train and test data accordingly."
   ]
  },
  {
   "cell_type": "code",
   "execution_count": 9,
   "metadata": {},
   "outputs": [],
   "source": [
    "def gen_train(id_df, seq_length, seq_cols):\n",
    "    \"\"\"\n",
    "        repeated overlay of chunks of size seq_length to prepare (samples, time steps, features)\n",
    "        id_df = train dataframe\n",
    "        seq_length = look back period\n",
    "        seq_cols = feature columns\n",
    "    \"\"\"        \n",
    "    data_array = id_df[seq_cols].values\n",
    "    num_elements = data_array.shape[0]\n",
    "    lstm_array=[]    \n",
    "    for start, stop in zip(range(0, num_elements-seq_length+1), range(seq_length, num_elements+1)):\n",
    "        lstm_array.append(data_array[start:stop, :])    \n",
    "    return np.array(lstm_array)"
   ]
  },
  {
   "cell_type": "code",
   "execution_count": 10,
   "metadata": {},
   "outputs": [],
   "source": [
    "def gen_target(id_df, seq_length, label):\n",
    "    # label is the column name string for target\n",
    "    data_array = id_df[label].values\n",
    "    num_elements = data_array.shape[0]\n",
    "    return data_array[seq_length-1:num_elements+1]"
   ]
  },
  {
   "cell_type": "code",
   "execution_count": 11,
   "metadata": {},
   "outputs": [],
   "source": [
    "def gen_test(id_df, seq_length, seq_cols, mask_value):\n",
    "    \"\"\"\n",
    "        function to prepare test data into (samples, time steps, features)\n",
    "        function only returns last sequence of data for every unit\n",
    "        id_df = test dataframe\n",
    "        seq_length = look back period\n",
    "        seq_cols = feature columns\n",
    "    \"\"\"\n",
    "    df_mask = pd.DataFrame(np.zeros((seq_length-1,id_df.shape[1])),columns=id_df.columns)\n",
    "    df_mask[:] = mask_value    \n",
    "    id_df1 = pd.concat([df_mask, id_df],ignore_index=True)    \n",
    "    data_array = id_df1[seq_cols].values\n",
    "    num_elements = data_array.shape[0]\n",
    "    lstm_array=[]    \n",
    "    start = num_elements-seq_length\n",
    "    stop = num_elements    \n",
    "    lstm_array.append(data_array[start:stop, :])    \n",
    "    return np.array(lstm_array)"
   ]
  },
  {
   "cell_type": "markdown",
   "metadata": {},
   "source": [
    "### Function to Print results"
   ]
  },
  {
   "cell_type": "code",
   "execution_count": 12,
   "metadata": {},
   "outputs": [],
   "source": [
    "def print_results(y_test, y_pred, multi_class = False):    \n",
    "    #f1-score\n",
    "    if multi_class == True:\n",
    "        f1 = f1_score(y_test, y_pred, average=\"macro\")\n",
    "    else:\n",
    "        f1 = f1_score(y_test, y_pred)\n",
    "    print(\"F1 Score: \", f1)\n",
    "    print(classification_report(y_test, y_pred))    \n",
    "    conf_matrix = confusion_matrix(y_test, y_pred)\n",
    "    plt.figure(figsize=(12,12))\n",
    "    plt.subplot(221)\n",
    "    sns.heatmap(conf_matrix, fmt=\"d\", annot=True, cmap='Blues')\n",
    "    b, t = plt.ylim()\n",
    "    plt.ylim(b+0.5, t-0.5)\n",
    "    plt.title('Confusion Matrix')\n",
    "    plt.ylabel('True Values')\n",
    "    plt.xlabel('Predicted Values')\n",
    "    #roc_auc_score\n",
    "    if multi_class == False:\n",
    "        model_roc_auc = roc_auc_score(y_test, y_pred) \n",
    "        print (\"Area Under Curve : \", model_roc_auc, \"\\n\")\n",
    "        fpr,tpr,thresholds = roc_curve(y_test, y_pred)\n",
    "        gmeans = np.sqrt(tpr * (1-fpr))\n",
    "        ix = np.argmax(gmeans)\n",
    "        threshold = np.round(thresholds[ix],3)\n",
    "        plt.subplot(222)\n",
    "        plt.plot(fpr, tpr, color='darkorange', lw=1, label = \"Auc : %.3f\" %model_roc_auc)\n",
    "        plt.plot([0, 1], [0, 1], color='navy', lw=2, linestyle='--')\n",
    "        plt.scatter(fpr[ix], tpr[ix], marker='o', color='black', label='Best Threshold:' + str(threshold))\n",
    "        plt.xlim([0.0, 1.0])\n",
    "        plt.ylim([0.0, 1.05])\n",
    "        plt.xlabel('False Positive Rate')\n",
    "        plt.ylabel('True Positive Rate')\n",
    "        plt.title('Receiver operating characteristic')\n",
    "        plt.legend(loc=\"lower right\")"
   ]
  },
  {
   "cell_type": "markdown",
   "metadata": {},
   "source": [
    "## Binary Classification"
   ]
  },
  {
   "cell_type": "code",
   "execution_count": 13,
   "metadata": {},
   "outputs": [],
   "source": [
    "sequence_length = 50\n",
    "mask_value = 0\n",
    "label = \"failure_lbl_1\""
   ]
  },
  {
   "cell_type": "markdown",
   "metadata": {},
   "source": [
    "\n",
    "Let's prepare data using above functions."
   ]
  },
  {
   "cell_type": "code",
   "execution_count": 14,
   "metadata": {},
   "outputs": [
    {
     "name": "stdout",
     "output_type": "stream",
     "text": [
      "(143, 50, 15)\n",
      "(15731, 50, 15)\n"
     ]
    }
   ],
   "source": [
    "#generate train\n",
    "train1 = gen_train(df_train[df_train['UnitNumber']==1], sequence_length, feats)\n",
    "print(train1.shape)\n",
    "x_train=np.concatenate(list(list(gen_train(df_train[df_train['UnitNumber']==unit], sequence_length, feats)) for unit in df_train['UnitNumber'].unique()))\n",
    "print(x_train.shape)"
   ]
  },
  {
   "cell_type": "code",
   "execution_count": 15,
   "metadata": {
    "scrolled": true
   },
   "outputs": [
    {
     "data": {
      "text/plain": [
       "(15731,)"
      ]
     },
     "execution_count": 15,
     "metadata": {},
     "output_type": "execute_result"
    }
   ],
   "source": [
    "#generate target of train\n",
    "y_train = np.concatenate(list(list(gen_target(df_train[df_train['UnitNumber']==unit], sequence_length, label)) for unit in df_train['UnitNumber'].unique()))\n",
    "y_train.shape"
   ]
  },
  {
   "cell_type": "code",
   "execution_count": 16,
   "metadata": {},
   "outputs": [
    {
     "name": "stdout",
     "output_type": "stream",
     "text": [
      "(100, 50, 15)\n"
     ]
    }
   ],
   "source": [
    "#generate test\n",
    "x_test=np.concatenate(list(list(gen_test(df_test[df_test['UnitNumber']==unit], sequence_length, feats, mask_value)) for unit in df_test['UnitNumber'].unique()))\n",
    "print(x_test.shape)"
   ]
  },
  {
   "cell_type": "code",
   "execution_count": 17,
   "metadata": {},
   "outputs": [
    {
     "data": {
      "text/plain": [
       "(100,)"
      ]
     },
     "execution_count": 17,
     "metadata": {},
     "output_type": "execute_result"
    }
   ],
   "source": [
    "#true target of test \n",
    "y_test = y_true.RUL.values\n",
    "y_test.shape"
   ]
  },
  {
   "cell_type": "code",
   "execution_count": 18,
   "metadata": {},
   "outputs": [],
   "source": [
    "nb_features = x_train.shape[2]\n",
    "nb_out = 1"
   ]
  },
  {
   "cell_type": "code",
   "execution_count": 19,
   "metadata": {},
   "outputs": [
    {
     "data": {
      "text/plain": [
       "15"
      ]
     },
     "execution_count": 19,
     "metadata": {},
     "output_type": "execute_result"
    }
   ],
   "source": [
    "nb_features"
   ]
  },
  {
   "cell_type": "code",
   "execution_count": 20,
   "metadata": {},
   "outputs": [
    {
     "data": {
      "text/plain": [
       "{0: 0.7329699002888826, 1: 1.5731}"
      ]
     },
     "execution_count": 20,
     "metadata": {},
     "output_type": "execute_result"
    }
   ],
   "source": [
    "cls_wt= class_weight.compute_class_weight(class_weight='balanced', classes=np.unique(y_train), y=y_train)\n",
    "cls_wt = {i : cls_wt[i] for i in range(2)}\n",
    "cls_wt"
   ]
  },
  {
   "cell_type": "markdown",
   "metadata": {},
   "source": [
    "### 1D CNN Model"
   ]
  },
  {
   "cell_type": "code",
   "execution_count": 22,
   "metadata": {},
   "outputs": [
    {
     "name": "stdout",
     "output_type": "stream",
     "text": [
      "Model: \"sequential_1\"\n",
      "_________________________________________________________________\n",
      "Layer (type)                 Output Shape              Param #   \n",
      "=================================================================\n",
      "conv1d_9 (Conv1D)            (None, 47, 64)            3904      \n",
      "_________________________________________________________________\n",
      "conv1d_10 (Conv1D)           (None, 44, 64)            16448     \n",
      "_________________________________________________________________\n",
      "conv1d_11 (Conv1D)           (None, 41, 64)            16448     \n",
      "_________________________________________________________________\n",
      "conv1d_12 (Conv1D)           (None, 38, 64)            16448     \n",
      "_________________________________________________________________\n",
      "max_pooling1d_2 (MaxPooling1 (None, 12, 64)            0         \n",
      "_________________________________________________________________\n",
      "conv1d_13 (Conv1D)           (None, 10, 128)           24704     \n",
      "_________________________________________________________________\n",
      "conv1d_14 (Conv1D)           (None, 8, 128)            49280     \n",
      "_________________________________________________________________\n",
      "conv1d_15 (Conv1D)           (None, 6, 128)            49280     \n",
      "_________________________________________________________________\n",
      "global_average_pooling1d (Gl (None, 128)               0         \n",
      "_________________________________________________________________\n",
      "dropout (Dropout)            (None, 128)               0         \n",
      "_________________________________________________________________\n",
      "dense (Dense)                (None, 1)                 129       \n",
      "=================================================================\n",
      "Total params: 176,641\n",
      "Trainable params: 176,641\n",
      "Non-trainable params: 0\n",
      "_________________________________________________________________\n"
     ]
    }
   ],
   "source": [
    "history = History()\n",
    "model = Sequential()\n",
    "model.add(Conv1D(64, 4, activation = 'relu', input_shape=(sequence_length, nb_features)))\n",
    "model.add(Conv1D(64, 4, activation='relu'))\n",
    "model.add(Conv1D(64, 4, activation='relu'))\n",
    "model.add(Conv1D(64, 4, activation='relu'))\n",
    "model.add(MaxPooling1D(3))\n",
    "model.add(Conv1D(128, 3, activation='relu'))\n",
    "model.add(Conv1D(128, 3, activation='relu'))\n",
    "model.add(Conv1D(128, 3, activation='relu'))\n",
    "model.add(GlobalAveragePooling1D())\n",
    "model.add(Dropout(0.5))\n",
    "model.add(Dense(units=1, activation='sigmoid'))\n",
    "model.compile(loss=\"binary_crossentropy\", optimizer=\"adam\", metrics=['accuracy'])\n",
    "model.summary()"
   ]
  },
  {
   "cell_type": "code",
   "execution_count": 23,
   "metadata": {
    "scrolled": true
   },
   "outputs": [
    {
     "name": "stdout",
     "output_type": "stream",
     "text": [
      "WARNING:tensorflow:From /Users/tomxu/miniforge3/envs/tf25/lib/python3.9/site-packages/tensorflow/python/ops/array_ops.py:5043: calling gather (from tensorflow.python.ops.array_ops) with validate_indices is deprecated and will be removed in a future version.\n",
      "Instructions for updating:\n",
      "The `validate_indices` argument has no effect. Indices are always validated on CPU and never validated on GPU.\n",
      "Epoch 1/10\n"
     ]
    },
    {
     "name": "stderr",
     "output_type": "stream",
     "text": [
      "2023-01-09 09:21:25.859917: I tensorflow/compiler/mlir/mlir_graph_optimization_pass.cc:176] None of the MLIR Optimization Passes are enabled (registered 2)\n",
      "2023-01-09 09:21:25.862502: W tensorflow/core/platform/profile_utils/cpu_utils.cc:128] Failed to get CPU frequency: 0 Hz\n",
      "2023-01-09 09:21:26.111245: I tensorflow/core/grappler/optimizers/custom_graph_optimizer_registry.cc:112] Plugin optimizer for device_type GPU is enabled.\n"
     ]
    },
    {
     "name": "stdout",
     "output_type": "stream",
     "text": [
      "222/222 [==============================] - ETA: 0s - loss: 0.2692 - accuracy: 0.8991"
     ]
    },
    {
     "name": "stderr",
     "output_type": "stream",
     "text": [
      "2023-01-09 09:21:31.674174: I tensorflow/core/grappler/optimizers/custom_graph_optimizer_registry.cc:112] Plugin optimizer for device_type GPU is enabled.\n"
     ]
    },
    {
     "name": "stdout",
     "output_type": "stream",
     "text": [
      "222/222 [==============================] - 6s 21ms/step - loss: 0.2692 - accuracy: 0.8991 - val_loss: 0.2491 - val_accuracy: 0.9047\n",
      "Epoch 2/10\n",
      "222/222 [==============================] - 4s 17ms/step - loss: 0.1157 - accuracy: 0.9585 - val_loss: 0.1707 - val_accuracy: 0.9307\n",
      "Epoch 3/10\n",
      "222/222 [==============================] - 4s 17ms/step - loss: 0.0566 - accuracy: 0.9786 - val_loss: 0.2243 - val_accuracy: 0.9327\n",
      "Epoch 4/10\n",
      "222/222 [==============================] - 4s 17ms/step - loss: 0.0459 - accuracy: 0.9825 - val_loss: 0.2866 - val_accuracy: 0.9079\n",
      "Epoch 5/10\n",
      "222/222 [==============================] - 4s 17ms/step - loss: 0.0276 - accuracy: 0.9885 - val_loss: 0.3020 - val_accuracy: 0.9212\n",
      "CPU times: user 16.6 s, sys: 9.39 s, total: 26 s\n",
      "Wall time: 21.3 s\n"
     ]
    },
    {
     "data": {
      "text/plain": [
       "<tensorflow.python.keras.callbacks.History at 0x158f90880>"
      ]
     },
     "execution_count": 23,
     "metadata": {},
     "output_type": "execute_result"
    }
   ],
   "source": [
    "%%time\n",
    "# fit the model\n",
    "model.fit(x_train, y_train, epochs=10, batch_size=64, validation_split=0.1, verbose=1, class_weight=cls_wt,\n",
    "          callbacks=[history, callbacks.EarlyStopping(monitor='val_loss', min_delta=0, patience=3,\n",
    "                                                      verbose=0, mode='auto')])"
   ]
  },
  {
   "cell_type": "code",
   "execution_count": 24,
   "metadata": {},
   "outputs": [
    {
     "data": {
      "text/plain": [
       "Text(0.5, 1.0, 'Loss')"
      ]
     },
     "execution_count": 24,
     "metadata": {},
     "output_type": "execute_result"
    },
    {
     "data": {
      "image/png": "[encoded data removed]",
      "text/plain": [
       "<Figure size 1000x400 with 2 Axes>"
      ]
     },
     "metadata": {},
     "output_type": "display_data"
    }
   ],
   "source": [
    "fig, ax = plt.subplots(nrows=1, ncols=2, figsize=(10, 4))\n",
    "# Accuracy\n",
    "ax[0].plot(history.history['accuracy'])\n",
    "ax[0].plot(history.history['val_accuracy'])\n",
    "ax[0].set_ylabel('Accuracy')\n",
    "ax[0].set_xlabel('# Epoch')\n",
    "ax[0].legend(['train', 'validation'], loc='upper left')\n",
    "ax[0].set_title('Accuracy')\n",
    "# Loss\n",
    "ax[1].plot(history.history['loss'])\n",
    "ax[1].plot(history.history['val_loss'])\n",
    "ax[1].set_ylabel('Loss')\n",
    "ax[1].set_xlabel('# Epoch')\n",
    "ax[1].legend(['train', 'validation'], loc='upper left')\n",
    "ax[1].set_title('Loss')"
   ]
  },
  {
   "cell_type": "code",
   "execution_count": 25,
   "metadata": {},
   "outputs": [
    {
     "name": "stderr",
     "output_type": "stream",
     "text": [
      "2023-01-09 09:22:24.172466: I tensorflow/core/grappler/optimizers/custom_graph_optimizer_registry.cc:112] Plugin optimizer for device_type GPU is enabled.\n"
     ]
    },
    {
     "name": "stdout",
     "output_type": "stream",
     "text": [
      "F1 Score:  0.9180327868852459\n",
      "              precision    recall  f1-score   support\n",
      "\n",
      "           0       0.97      0.96      0.96        70\n",
      "           1       0.90      0.93      0.92        30\n",
      "\n",
      "    accuracy                           0.95       100\n",
      "   macro avg       0.94      0.95      0.94       100\n",
      "weighted avg       0.95      0.95      0.95       100\n",
      "\n",
      "Area Under Curve :  0.9452380952380953 \n",
      "\n"
     ]
    },
    {
     "data": {
      "image/png": "[encoded data removed]",
      "text/plain": [
       "<Figure size 1200x1200 with 3 Axes>"
      ]
     },
     "metadata": {},
     "output_type": "display_data"
    }
   ],
   "source": [
    "y_pred = (model.predict(x_test) > 0.5).astype(\"int32\")\n",
    "print_results(y_true.failure_lbl_1, y_pred)"
   ]
  },
  {
   "cell_type": "code",
   "execution_count": 26,
   "metadata": {},
   "outputs": [
    {
     "data": {
      "text/plain": [
       "array([[10628,   103],\n",
       "       [  135,  4865]])"
      ]
     },
     "execution_count": 26,
     "metadata": {},
     "output_type": "execute_result"
    }
   ],
   "source": [
    "confusion_matrix(y_train, (model.predict(x_train) > 0.5).astype(\"int32\"))"
   ]
  },
  {
   "cell_type": "markdown",
   "metadata": {},
   "source": [
    "## Multiclass Classification"
   ]
  },
  {
   "cell_type": "code",
   "execution_count": 30,
   "metadata": {},
   "outputs": [],
   "source": [
    "sequence_length = 50\n",
    "mask_value = 0\n",
    "label = \"failure_lbl_2\""
   ]
  },
  {
   "cell_type": "markdown",
   "metadata": {},
   "source": [
    "\n",
    "Let's prepare data using above functions."
   ]
  },
  {
   "cell_type": "code",
   "execution_count": 31,
   "metadata": {},
   "outputs": [
    {
     "name": "stdout",
     "output_type": "stream",
     "text": [
      "(15731, 50, 15)\n"
     ]
    }
   ],
   "source": [
    "#generate train\n",
    "x_train=np.concatenate(list(list(gen_train(df_train[df_train['UnitNumber']==unit], sequence_length, feats)) for unit in df_train['UnitNumber'].unique()))\n",
    "print(x_train.shape)"
   ]
  },
  {
   "cell_type": "code",
   "execution_count": 32,
   "metadata": {
    "scrolled": true
   },
   "outputs": [
    {
     "name": "stdout",
     "output_type": "stream",
     "text": [
      "(15731,)\n"
     ]
    },
    {
     "data": {
      "text/plain": [
       "array([0, 0, 0, ..., 2, 2, 2])"
      ]
     },
     "execution_count": 32,
     "metadata": {},
     "output_type": "execute_result"
    }
   ],
   "source": [
    "#generate target of train\n",
    "y_train = np.concatenate(list(list(gen_target(df_train[df_train['UnitNumber']==unit], sequence_length, label)) for unit in df_train['UnitNumber'].unique()))\n",
    "print(y_train.shape)\n",
    "y_train"
   ]
  },
  {
   "cell_type": "code",
   "execution_count": 33,
   "metadata": {},
   "outputs": [
    {
     "data": {
      "text/plain": [
       "array([[1., 0., 0.],\n",
       "       [1., 0., 0.],\n",
       "       [1., 0., 0.],\n",
       "       ...,\n",
       "       [0., 0., 1.],\n",
       "       [0., 0., 1.],\n",
       "       [0., 0., 1.]], dtype=float32)"
      ]
     },
     "execution_count": 33,
     "metadata": {},
     "output_type": "execute_result"
    }
   ],
   "source": [
    "# vectorize y_train\n",
    "y_train2 = to_categorical(y_train)\n",
    "y_train2"
   ]
  },
  {
   "cell_type": "code",
   "execution_count": 34,
   "metadata": {},
   "outputs": [
    {
     "name": "stdout",
     "output_type": "stream",
     "text": [
      "(100, 50, 15)\n"
     ]
    }
   ],
   "source": [
    "#generate test\n",
    "x_test=np.concatenate(list(list(gen_test(df_test[df_test['UnitNumber']==unit], sequence_length, feats, mask_value)) for unit in df_test['UnitNumber'].unique()))\n",
    "print(x_test.shape)"
   ]
  },
  {
   "cell_type": "code",
   "execution_count": 35,
   "metadata": {},
   "outputs": [],
   "source": [
    "nb_features = x_train.shape[2]\n",
    "nb_out = 1"
   ]
  },
  {
   "cell_type": "code",
   "execution_count": 36,
   "metadata": {},
   "outputs": [
    {
     "data": {
      "text/plain": [
       "15"
      ]
     },
     "execution_count": 36,
     "metadata": {},
     "output_type": "execute_result"
    }
   ],
   "source": [
    "nb_features"
   ]
  },
  {
   "cell_type": "code",
   "execution_count": 37,
   "metadata": {
    "scrolled": true
   },
   "outputs": [
    {
     "data": {
      "text/plain": [
       "{0: 0.48864660019258843, 1: 2.0974666666666666, 2: 2.0974666666666666}"
      ]
     },
     "execution_count": 37,
     "metadata": {},
     "output_type": "execute_result"
    }
   ],
   "source": [
    "cls_wt= class_weight.compute_class_weight(class_weight='balanced',classes=np.unique(y_train), y=y_train)\n",
    "cls_wt = {i : cls_wt[i] for i in range(3)}\n",
    "cls_wt"
   ]
  },
  {
   "cell_type": "markdown",
   "metadata": {},
   "source": [
    "### Model"
   ]
  },
  {
   "cell_type": "code",
   "execution_count": 53,
   "metadata": {},
   "outputs": [
    {
     "name": "stdout",
     "output_type": "stream",
     "text": [
      "Model: \"sequential_10\"\n",
      "_________________________________________________________________\n",
      "Layer (type)                 Output Shape              Param #   \n",
      "=================================================================\n",
      "conv1d_65 (Conv1D)           (None, 45, 64)            5824      \n",
      "_________________________________________________________________\n",
      "conv1d_66 (Conv1D)           (None, 40, 64)            24640     \n",
      "_________________________________________________________________\n",
      "conv1d_67 (Conv1D)           (None, 35, 64)            24640     \n",
      "_________________________________________________________________\n",
      "conv1d_68 (Conv1D)           (None, 30, 64)            24640     \n",
      "_________________________________________________________________\n",
      "max_pooling1d_14 (MaxPooling (None, 15, 64)            0         \n",
      "_________________________________________________________________\n",
      "conv1d_69 (Conv1D)           (None, 12, 128)           32896     \n",
      "_________________________________________________________________\n",
      "conv1d_70 (Conv1D)           (None, 9, 128)            65664     \n",
      "_________________________________________________________________\n",
      "conv1d_71 (Conv1D)           (None, 6, 128)            65664     \n",
      "_________________________________________________________________\n",
      "max_pooling1d_15 (MaxPooling (None, 6, 128)            0         \n",
      "_________________________________________________________________\n",
      "conv1d_72 (Conv1D)           (None, 5, 256)            65792     \n",
      "_________________________________________________________________\n",
      "conv1d_73 (Conv1D)           (None, 4, 256)            131328    \n",
      "_________________________________________________________________\n",
      "global_average_pooling1d_4 ( (None, 256)               0         \n",
      "_________________________________________________________________\n",
      "dropout_4 (Dropout)          (None, 256)               0         \n",
      "_________________________________________________________________\n",
      "dense_4 (Dense)              (None, 3)                 771       \n",
      "=================================================================\n",
      "Total params: 441,859\n",
      "Trainable params: 441,859\n",
      "Non-trainable params: 0\n",
      "_________________________________________________________________\n"
     ]
    }
   ],
   "source": [
    "history2 = History()\n",
    "model2 = Sequential()\n",
    "model2.add(Conv1D(64, 6, activation = 'relu', input_shape=(sequence_length, nb_features)))\n",
    "model2.add(Conv1D(64, 6, activation='relu'))\n",
    "model2.add(Conv1D(64, 6, activation='relu'))\n",
    "model2.add(Conv1D(64, 6, activation='relu'))\n",
    "model2.add(MaxPooling1D(2))\n",
    "model2.add(Conv1D(128, 4, activation='relu'))\n",
    "model2.add(Conv1D(128, 4, activation='relu'))\n",
    "model2.add(Conv1D(128, 4, activation='relu'))\n",
    "model2.add(MaxPooling1D(1))\n",
    "model2.add(Conv1D(256, 2, activation='relu'))\n",
    "model2.add(Conv1D(256, 2, activation='relu'))\n",
    "model2.add(GlobalAveragePooling1D())\n",
    "model2.add(Dropout(0.5))\n",
    "model2.add(Dense(units=3, activation='softmax'))\n",
    "model2.compile(loss=\"categorical_crossentropy\", optimizer=\"adam\", metrics=['accuracy'])\n",
    "model2.summary()"
   ]
  },
  {
   "cell_type": "code",
   "execution_count": 54,
   "metadata": {
    "scrolled": true
   },
   "outputs": [
    {
     "name": "stdout",
     "output_type": "stream",
     "text": [
      "Epoch 1/10\n"
     ]
    },
    {
     "name": "stderr",
     "output_type": "stream",
     "text": [
      "2023-01-09 09:31:37.771048: I tensorflow/core/grappler/optimizers/custom_graph_optimizer_registry.cc:112] Plugin optimizer for device_type GPU is enabled.\n"
     ]
    },
    {
     "name": "stdout",
     "output_type": "stream",
     "text": [
      "222/222 [==============================] - ETA: 0s - loss: 0.5171 - accuracy: 0.8174"
     ]
    },
    {
     "name": "stderr",
     "output_type": "stream",
     "text": [
      "2023-01-09 09:31:44.237613: I tensorflow/core/grappler/optimizers/custom_graph_optimizer_registry.cc:112] Plugin optimizer for device_type GPU is enabled.\n"
     ]
    },
    {
     "name": "stdout",
     "output_type": "stream",
     "text": [
      "222/222 [==============================] - 7s 27ms/step - loss: 0.5171 - accuracy: 0.8174 - val_loss: 0.5626 - val_accuracy: 0.7942\n",
      "Epoch 2/10\n",
      "222/222 [==============================] - 5s 23ms/step - loss: 0.2839 - accuracy: 0.8962 - val_loss: 0.4357 - val_accuracy: 0.8443\n",
      "Epoch 3/10\n",
      "222/222 [==============================] - 5s 23ms/step - loss: 0.1860 - accuracy: 0.9323 - val_loss: 0.3714 - val_accuracy: 0.8856\n",
      "Epoch 4/10\n",
      "222/222 [==============================] - 5s 23ms/step - loss: 0.1413 - accuracy: 0.9485 - val_loss: 0.5330 - val_accuracy: 0.8577\n",
      "Epoch 5/10\n",
      "222/222 [==============================] - 5s 23ms/step - loss: 0.1074 - accuracy: 0.9630 - val_loss: 0.4089 - val_accuracy: 0.8882\n",
      "Epoch 6/10\n",
      "222/222 [==============================] - 5s 22ms/step - loss: 0.0723 - accuracy: 0.9735 - val_loss: 0.8540 - val_accuracy: 0.8818\n",
      "CPU times: user 26.3 s, sys: 12.3 s, total: 38.7 s\n",
      "Wall time: 32.2 s\n"
     ]
    },
    {
     "data": {
      "text/plain": [
       "<tensorflow.python.keras.callbacks.History at 0x2f7c22b20>"
      ]
     },
     "execution_count": 54,
     "metadata": {},
     "output_type": "execute_result"
    }
   ],
   "source": [
    "%%time\n",
    "# fit the model\n",
    "model2.fit(x_train, y_train2, epochs=10, batch_size=64, validation_split=0.1, verbose=1, class_weight = cls_wt,\n",
    "           callbacks=[history2, callbacks.EarlyStopping(monitor='val_loss', min_delta=0, patience=3, verbose=0, mode='auto')])"
   ]
  },
  {
   "cell_type": "code",
   "execution_count": 55,
   "metadata": {},
   "outputs": [
    {
     "data": {
      "text/plain": [
       "Text(0.5, 1.0, 'Loss')"
      ]
     },
     "execution_count": 55,
     "metadata": {},
     "output_type": "execute_result"
    },
    {
     "data": {
      "image/png": "[encoded data removed]",
      "text/plain": [
       "<Figure size 1000x400 with 2 Axes>"
      ]
     },
     "metadata": {},
     "output_type": "display_data"
    }
   ],
   "source": [
    "fig, ax = plt.subplots(nrows = 1, ncols = 2, figsize = (10, 4))\n",
    "# Accuracy\n",
    "ax[0].plot(history2.history['accuracy'])\n",
    "ax[0].plot(history2.history['val_accuracy'])\n",
    "ax[0].set_ylabel('Accuracy')\n",
    "ax[0].set_xlabel('# Epoch')\n",
    "ax[0].legend(['train', 'validation'], loc='upper left')\n",
    "ax[0].set_title('Accuracy')\n",
    "# Loss\n",
    "ax[1].plot(history2.history['loss'])\n",
    "ax[1].plot(history2.history['val_loss'])\n",
    "ax[1].set_ylabel('Loss')\n",
    "ax[1].set_xlabel('# Epoch')\n",
    "ax[1].legend(['train', 'validation'], loc='upper left')\n",
    "ax[1].set_title('Loss')"
   ]
  },
  {
   "cell_type": "code",
   "execution_count": 56,
   "metadata": {},
   "outputs": [
    {
     "name": "stderr",
     "output_type": "stream",
     "text": [
      "2023-01-09 09:32:34.141101: I tensorflow/core/grappler/optimizers/custom_graph_optimizer_registry.cc:112] Plugin optimizer for device_type GPU is enabled.\n"
     ]
    },
    {
     "name": "stdout",
     "output_type": "stream",
     "text": [
      "F1 Score:  0.7674967718133185\n",
      "              precision    recall  f1-score   support\n",
      "\n",
      "           0       0.97      0.96      0.96        70\n",
      "           1       0.47      0.64      0.54        11\n",
      "           2       0.88      0.74      0.80        19\n",
      "\n",
      "    accuracy                           0.88       100\n",
      "   macro avg       0.77      0.78      0.77       100\n",
      "weighted avg       0.90      0.88      0.89       100\n",
      "\n"
     ]
    },
    {
     "data": {
      "image/png": "[encoded data removed]",
      "text/plain": [
       "<Figure size 1200x1200 with 2 Axes>"
      ]
     },
     "metadata": {},
     "output_type": "display_data"
    }
   ],
   "source": [
    "y_pred = np.argmax(model2.predict(x_test), axis=-1)\n",
    "print_results(y_true.failure_lbl_2, y_pred, multi_class=True)"
   ]
  },
  {
   "cell_type": "code",
   "execution_count": 57,
   "metadata": {},
   "outputs": [
    {
     "data": {
      "text/plain": [
       "array([[10592,   139,     0],\n",
       "       [   80,  2347,    73],\n",
       "       [    0,   104,  2396]])"
      ]
     },
     "execution_count": 57,
     "metadata": {},
     "output_type": "execute_result"
    }
   ],
   "source": [
    "confusion_matrix(y_train, np.argmax(model2.predict(x_train), axis=-1))"
   ]
  }
 ],
 "metadata": {
  "kernelspec": {
   "display_name": "tf25",
   "language": "python",
   "name": "python3"
  },
  "language_info": {
   "codemirror_mode": {
    "name": "ipython",
    "version": 3
   },
   "file_extension": ".py",
   "mimetype": "text/x-python",
   "name": "python",
   "nbconvert_exporter": "python",
   "pygments_lexer": "ipython3",
   "version": "3.9.15"
  },
  "vscode": {
   "interpreter": {
    "hash": "32b8582a6a317188b1b21a1addc55c3e93ba5302b85506ac8f3c8dfe71022194"
   }
  }
 },
 "nbformat": 4,
 "nbformat_minor": 2
}
