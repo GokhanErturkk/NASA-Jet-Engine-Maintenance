{
 "cells": [
  {
   "cell_type": "code",
   "execution_count": 7,
   "metadata": {},
   "outputs": [
    {
     "name": "stdout",
     "output_type": "stream",
     "text": [
      "Init Plugin\n",
      "Init Graph Optimizer\n",
      "Init Kernel\n"
     ]
    }
   ],
   "source": [
    "import pandas as pd \n",
    "import numpy as np \n",
    "import matplotlib.pyplot as plt \n",
    "import seaborn as sns\n",
    "import tensorflow as tf\n",
    "from sklearn.metrics import accuracy_score\n",
    "from tensorflow.keras.optimizers import Adam\n",
    "from tensorflow.keras import Model, Sequential\n",
    "from tensorflow.keras.layers import Dense, Dropout\n",
    "from tensorflow.keras.losses import MeanSquaredLogarithmicError\n",
    "%matplotlib inline"
   ]
  },
  {
   "cell_type": "code",
   "execution_count": 2,
   "metadata": {},
   "outputs": [
    {
     "name": "stdout",
     "output_type": "stream",
     "text": [
      "The data looks like :\n",
      "   UDI Product ID Type  Air temperature [K]  Process temperature [K]  \\\n",
      "0    1     M14860    M                298.1                    308.6   \n",
      "1    2     L47181    L                298.2                    308.7   \n",
      "2    3     L47182    L                298.1                    308.5   \n",
      "3    4     L47183    L                298.2                    308.6   \n",
      "4    5     L47184    L                298.2                    308.7   \n",
      "\n",
      "   Rotational speed [rpm]  Torque [Nm]  Tool wear [min]  Target Failure Type  \n",
      "0                    1551         42.8                0       0   No Failure  \n",
      "1                    1408         46.3                3       0   No Failure  \n",
      "2                    1498         49.4                5       0   No Failure  \n",
      "3                    1433         39.5                7       0   No Failure  \n",
      "4                    1408         40.0                9       0   No Failure  \n",
      "Index(['UDI', 'Product ID', 'Type', 'Air temperature [K]',\n",
      "       'Process temperature [K]', 'Rotational speed [rpm]', 'Torque [Nm]',\n",
      "       'Tool wear [min]', 'Target', 'Failure Type'],\n",
      "      dtype='object')\n",
      "10\n"
     ]
    }
   ],
   "source": [
    "path = \"/Users/tomxu/Documents/NASA-Jet-Engine-Maintenance/Data/Maintenance/\"\n",
    "X = pd.read_csv(path+\"predictive_maintenance.csv\")\n",
    "print(\"The data looks like :\")\n",
    "print(X.head())\n",
    "print(X.columns)\n",
    "print(len(X.columns))"
   ]
  },
  {
   "cell_type": "code",
   "execution_count": 3,
   "metadata": {},
   "outputs": [
    {
     "name": "stdout",
     "output_type": "stream",
     "text": [
      "No Failure                  9652\n",
      "Heat Dissipation Failure     112\n",
      "Power Failure                 95\n",
      "Overstrain Failure            78\n",
      "Tool Wear Failure             45\n",
      "Random Failures               18\n",
      "Name: Failure Type, dtype: int64\n",
      "10000\n"
     ]
    }
   ],
   "source": [
    "print(X['Failure Type'].value_counts())\n",
    "print(len(X))"
   ]
  },
  {
   "cell_type": "code",
   "execution_count": 4,
   "metadata": {},
   "outputs": [
    {
     "name": "stdout",
     "output_type": "stream",
     "text": [
      "   Type\n",
      "0   2.0\n",
      "1   1.0\n",
      "2   1.0\n",
      "3   1.0\n",
      "4   1.0\n",
      "   UDI Product ID  Air temperature [K]  Process temperature [K]  \\\n",
      "0    1     M14860                298.1                    308.6   \n",
      "1    2     L47181                298.2                    308.7   \n",
      "2    3     L47182                298.1                    308.5   \n",
      "3    4     L47183                298.2                    308.6   \n",
      "4    5     L47184                298.2                    308.7   \n",
      "\n",
      "   Rotational speed [rpm]  Torque [Nm]  Tool wear [min]  Target Failure Type  \\\n",
      "0                    1551         42.8                0       0   No Failure   \n",
      "1                    1408         46.3                3       0   No Failure   \n",
      "2                    1498         49.4                5       0   No Failure   \n",
      "3                    1433         39.5                7       0   No Failure   \n",
      "4                    1408         40.0                9       0   No Failure   \n",
      "\n",
      "   Type  \n",
      "0   2.0  \n",
      "1   1.0  \n",
      "2   1.0  \n",
      "3   1.0  \n",
      "4   1.0  \n"
     ]
    }
   ],
   "source": [
    "from sklearn.preprocessing import OrdinalEncoder\n",
    "ordinal_encoder = OrdinalEncoder()\n",
    "# ordinal encode categorical variable \"Type\"\n",
    "ordinal_cols = ['Type']\n",
    "X_ordinal = X[ordinal_cols]\n",
    "X_ordinal = ordinal_encoder.fit_transform(X_ordinal)\n",
    "X_ordinal = pd.DataFrame(X_ordinal, columns = ordinal_cols)\n",
    "print(X_ordinal.head())\n",
    "X.drop(ordinal_cols,axis=1,inplace=True)\n",
    "X[ordinal_cols] = X_ordinal[ordinal_cols]\n",
    "print(X.head())"
   ]
  },
  {
   "cell_type": "code",
   "execution_count": 5,
   "metadata": {},
   "outputs": [
    {
     "name": "stdout",
     "output_type": "stream",
     "text": [
      "   Air temperature [K]  Process temperature [K]  Rotational speed [rpm]  \\\n",
      "0                298.1                    308.6                    1551   \n",
      "1                298.2                    308.7                    1408   \n",
      "2                298.1                    308.5                    1498   \n",
      "3                298.2                    308.6                    1433   \n",
      "4                298.2                    308.7                    1408   \n",
      "\n",
      "   Torque [Nm]  Tool wear [min]  Type  \n",
      "0         42.8                0   2.0  \n",
      "1         46.3                3   1.0  \n",
      "2         49.4                5   1.0  \n",
      "3         39.5                7   1.0  \n",
      "4         40.0                9   1.0  \n",
      "0    0\n",
      "1    0\n",
      "2    0\n",
      "3    0\n",
      "4    0\n",
      "Name: Target, dtype: int64\n"
     ]
    }
   ],
   "source": [
    "# because there is \"Traget\", failure type is redundent\n",
    "X.drop(['UDI','Product ID','Failure Type'], axis=1, inplace=True)\n",
    "y = X['Target']\n",
    "X.drop(['Target'], axis=1, inplace=True)\n",
    "print(X.head())\n",
    "print(y.head())"
   ]
  },
  {
   "cell_type": "code",
   "execution_count": 9,
   "metadata": {},
   "outputs": [
    {
     "name": "stdout",
     "output_type": "stream",
     "text": [
      "         0         1         2         3         4    5\n",
      "0 -0.62500 -0.652174  0.253968  0.198529 -0.990826  1.0\n",
      "1 -0.59375 -0.608696 -0.502646  0.455882 -0.963303  0.0\n",
      "2 -0.62500 -0.695652 -0.026455  0.683824 -0.944954  0.0\n",
      "3 -0.59375 -0.652174 -0.370370 -0.044118 -0.926606  0.0\n",
      "4 -0.59375 -0.608696 -0.502646 -0.007353 -0.908257  0.0\n"
     ]
    }
   ],
   "source": [
    "# scaling X here using ROBUST SCALER\n",
    "from sklearn.preprocessing import RobustScaler\n",
    "#print(X.head())\n",
    "# Using the robust scaler \n",
    "robust_scaler_1 = RobustScaler()\n",
    "X = robust_scaler_1.fit_transform(X)\n",
    "X = pd.DataFrame(X)\n",
    "#After scaling data be like \n",
    "print(X.head())"
   ]
  },
  {
   "cell_type": "code",
   "execution_count": 27,
   "metadata": {},
   "outputs": [
    {
     "name": "stdout",
     "output_type": "stream",
     "text": [
      "            0         1         2         3         4    5\n",
      "9394 -0.75000 -0.826087 -0.894180  0.948529  0.440367  0.0\n",
      "898  -1.40625 -1.695652 -0.301587  0.720588  0.229358  0.0\n",
      "2398 -0.28125 -0.695652 -0.068783  0.227941  0.458716  0.0\n",
      "5906  0.18750  0.086957  0.158730 -0.330882  0.825688  0.0\n",
      "2343 -0.31250 -0.782609 -1.047619  1.566176 -0.834862  0.0\n",
      "...       ...       ...       ...       ...       ...  ...\n",
      "1037 -1.15625 -1.130435  0.492063 -0.367647 -0.302752 -1.0\n",
      "2899  0.15625 -0.304348 -0.492063  0.036765 -0.082569  0.0\n",
      "9549 -0.15625  0.434783  0.772487 -0.463235  0.229358  1.0\n",
      "2740 -0.15625 -0.478261  0.116402  0.198529  0.477064  0.0\n",
      "6690  0.50000  0.391304 -0.846561  0.669118 -0.761468  0.0\n",
      "\n",
      "[2000 rows x 6 columns]\n"
     ]
    }
   ],
   "source": [
    "from sklearn.model_selection import train_test_split\n",
    "X_train, X_test, y_train, y_test = train_test_split(X, y, train_size=0.8,\n",
    "                                                    test_size=0.2, random_state=0)\n",
    "# temp adding back \"Target\" column to filter normal rows for training\n",
    "X_train['Target'] = y_train\n",
    "X_train_non_anomaly = X_train.loc[X_train['Target']==0]\n",
    "X_train_anomaly = X_train.loc[X_train['Target']==1]\n",
    "X_train = X_train.loc[:, ~X_train.columns.isin(['Target'])]\n",
    "X_train_non_anomaly = X_train_non_anomaly.loc[:, ~X_train_non_anomaly.columns.isin(['Target'])]\n",
    "X_train_anomaly = X_train_anomaly.loc[:, ~X_train_anomaly.columns.isin(['Target'])]\n",
    "\n",
    "X_test['Target'] = y_test\n",
    "X_test_non_anomaly = X_test.loc[X_test['Target']==0]\n",
    "X_test_anomaly = X_test.loc[X_test['Target']==1]\n",
    "X_test = X_test.loc[:, ~X_test.columns.isin(['Target'])]\n",
    "X_test_non_anomaly = X_test_non_anomaly.loc[:, ~X_test_non_anomaly.columns.isin(['Target'])]\n",
    "X_test_anomaly = X_test_anomaly.loc[:, ~X_test_anomaly.columns.isin(['Target'])]\n",
    "print(X_test)"
   ]
  },
  {
   "cell_type": "code",
   "execution_count": 25,
   "metadata": {},
   "outputs": [
    {
     "name": "stdout",
     "output_type": "stream",
     "text": [
      "Epoch 1/30\n",
      " 6/16 [==========>...................] - ETA: 0s - loss: 0.1223 - mse: 0.6775"
     ]
    },
    {
     "name": "stderr",
     "output_type": "stream",
     "text": [
      "2022-10-23 22:32:04.364887: I tensorflow/core/grappler/optimizers/custom_graph_optimizer_registry.cc:112] Plugin optimizer for device_type GPU is enabled.\n"
     ]
    },
    {
     "name": "stdout",
     "output_type": "stream",
     "text": [
      "16/16 [==============================] - 1s 23ms/step - loss: 0.1215 - mse: 0.6806 - val_loss: 0.1207 - val_mse: 0.6750\n",
      "Epoch 2/30\n",
      " 6/16 [==========>...................] - ETA: 0s - loss: 0.1195 - mse: 0.6756"
     ]
    },
    {
     "name": "stderr",
     "output_type": "stream",
     "text": [
      "2022-10-23 22:32:04.765346: I tensorflow/core/grappler/optimizers/custom_graph_optimizer_registry.cc:112] Plugin optimizer for device_type GPU is enabled.\n"
     ]
    },
    {
     "name": "stdout",
     "output_type": "stream",
     "text": [
      "16/16 [==============================] - 0s 12ms/step - loss: 0.1188 - mse: 0.6705 - val_loss: 0.1180 - val_mse: 0.6649\n",
      "Epoch 3/30\n",
      "16/16 [==============================] - 0s 12ms/step - loss: 0.1158 - mse: 0.6594 - val_loss: 0.1149 - val_mse: 0.6533\n",
      "Epoch 4/30\n",
      "16/16 [==============================] - 0s 12ms/step - loss: 0.1124 - mse: 0.6458 - val_loss: 0.1114 - val_mse: 0.6397\n",
      "Epoch 5/30\n",
      "16/16 [==============================] - 0s 12ms/step - loss: 0.1088 - mse: 0.6309 - val_loss: 0.1076 - val_mse: 0.6245\n",
      "Epoch 6/30\n",
      "16/16 [==============================] - 0s 13ms/step - loss: 0.1050 - mse: 0.6147 - val_loss: 0.1039 - val_mse: 0.6086\n",
      "Epoch 7/30\n",
      "16/16 [==============================] - 0s 12ms/step - loss: 0.1014 - mse: 0.5983 - val_loss: 0.1003 - val_mse: 0.5926\n",
      "Epoch 8/30\n",
      "16/16 [==============================] - 0s 12ms/step - loss: 0.0982 - mse: 0.5821 - val_loss: 0.0971 - val_mse: 0.5774\n",
      "Epoch 9/30\n",
      "16/16 [==============================] - 0s 12ms/step - loss: 0.0950 - mse: 0.5665 - val_loss: 0.0943 - val_mse: 0.5636\n",
      "Epoch 10/30\n",
      "16/16 [==============================] - 0s 12ms/step - loss: 0.0926 - mse: 0.5540 - val_loss: 0.0919 - val_mse: 0.5520\n",
      "Epoch 11/30\n",
      "16/16 [==============================] - 0s 12ms/step - loss: 0.0902 - mse: 0.5423 - val_loss: 0.0898 - val_mse: 0.5422\n",
      "Epoch 12/30\n",
      "16/16 [==============================] - 0s 12ms/step - loss: 0.0887 - mse: 0.5341 - val_loss: 0.0879 - val_mse: 0.5339\n",
      "Epoch 13/30\n",
      "16/16 [==============================] - 0s 12ms/step - loss: 0.0867 - mse: 0.5259 - val_loss: 0.0863 - val_mse: 0.5270\n",
      "Epoch 14/30\n",
      "16/16 [==============================] - 0s 12ms/step - loss: 0.0853 - mse: 0.5192 - val_loss: 0.0848 - val_mse: 0.5209\n",
      "Epoch 15/30\n",
      "16/16 [==============================] - 0s 12ms/step - loss: 0.0841 - mse: 0.5132 - val_loss: 0.0834 - val_mse: 0.5152\n",
      "Epoch 16/30\n",
      "16/16 [==============================] - 0s 12ms/step - loss: 0.0826 - mse: 0.5070 - val_loss: 0.0821 - val_mse: 0.5098\n",
      "Epoch 17/30\n",
      "16/16 [==============================] - 0s 12ms/step - loss: 0.0813 - mse: 0.5013 - val_loss: 0.0809 - val_mse: 0.5048\n",
      "Epoch 18/30\n",
      "16/16 [==============================] - 0s 13ms/step - loss: 0.0803 - mse: 0.4967 - val_loss: 0.0800 - val_mse: 0.5009\n",
      "Epoch 19/30\n",
      "16/16 [==============================] - 0s 12ms/step - loss: 0.0795 - mse: 0.4933 - val_loss: 0.0791 - val_mse: 0.4972\n",
      "Epoch 20/30\n",
      "16/16 [==============================] - 0s 12ms/step - loss: 0.0786 - mse: 0.4902 - val_loss: 0.0784 - val_mse: 0.4951\n",
      "Epoch 21/30\n",
      "16/16 [==============================] - 0s 12ms/step - loss: 0.0777 - mse: 0.4868 - val_loss: 0.0775 - val_mse: 0.4910\n",
      "Epoch 22/30\n",
      "16/16 [==============================] - 0s 12ms/step - loss: 0.0771 - mse: 0.4834 - val_loss: 0.0767 - val_mse: 0.4876\n",
      "Epoch 23/30\n",
      "16/16 [==============================] - 0s 12ms/step - loss: 0.0765 - mse: 0.4810 - val_loss: 0.0759 - val_mse: 0.4845\n",
      "Epoch 24/30\n",
      "16/16 [==============================] - 0s 12ms/step - loss: 0.0758 - mse: 0.4780 - val_loss: 0.0752 - val_mse: 0.4822\n",
      "Epoch 25/30\n",
      "16/16 [==============================] - 0s 12ms/step - loss: 0.0749 - mse: 0.4738 - val_loss: 0.0743 - val_mse: 0.4790\n",
      "Epoch 26/30\n",
      "16/16 [==============================] - 0s 12ms/step - loss: 0.0743 - mse: 0.4721 - val_loss: 0.0735 - val_mse: 0.4759\n",
      "Epoch 27/30\n",
      "16/16 [==============================] - 0s 12ms/step - loss: 0.0735 - mse: 0.4684 - val_loss: 0.0725 - val_mse: 0.4721\n",
      "Epoch 28/30\n",
      "16/16 [==============================] - 0s 12ms/step - loss: 0.0728 - mse: 0.4653 - val_loss: 0.0716 - val_mse: 0.4682\n",
      "Epoch 29/30\n",
      "16/16 [==============================] - 0s 13ms/step - loss: 0.0722 - mse: 0.4621 - val_loss: 0.0706 - val_mse: 0.4642\n",
      "Epoch 30/30\n",
      "16/16 [==============================] - 0s 12ms/step - loss: 0.0713 - mse: 0.4596 - val_loss: 0.0694 - val_mse: 0.4592\n"
     ]
    }
   ],
   "source": [
    "# create autoencoder model by subclassing Model class in tensorflow\n",
    "class AutoEncoder(Model):\n",
    "    \"\"\"\n",
    "    Parameters\n",
    "    ----------\n",
    "    output_units: int\n",
    "        Number of output units\n",
    "    \n",
    "    code_size: int\n",
    "        Number of units in bottle neck\n",
    "    \"\"\"\n",
    "    def __init__(self, output_units, code_size=2):\n",
    "        super().__init__()\n",
    "        self.encoder = Sequential([\n",
    "            Dense(6, activation='relu'),\n",
    "            Dropout(0.1),\n",
    "            Dense(3, activation='relu'),\n",
    "            Dropout(0.1),            \n",
    "            Dense(code_size, activation='relu')\n",
    "        ])\n",
    "        self.decoder = Sequential([            \n",
    "            Dense(3, activation='relu'),\n",
    "            Dropout(0.1),\n",
    "            Dense(6, activation='relu'),\n",
    "            Dropout(0.1),\n",
    "            Dense(output_units, activation='sigmoid')\n",
    "        ])\n",
    "  \n",
    "    def call(self, inputs):\n",
    "        encoded = self.encoder(inputs)\n",
    "        decoded = self.decoder(encoded)\n",
    "        return decoded\n",
    "  \n",
    "model = AutoEncoder(output_units=X_train_non_anomaly.shape[1])\n",
    "# configurations of model\n",
    "model.compile(loss='msle', metrics=['mse'], optimizer='adam')\n",
    "\n",
    "history = model.fit(\n",
    "    X_train_non_anomaly,\n",
    "    X_train_non_anomaly,\n",
    "    epochs=30,\n",
    "    batch_size=512,\n",
    "    validation_data=(X_test, X_test)\n",
    ")"
   ]
  },
  {
   "cell_type": "code",
   "execution_count": 26,
   "metadata": {},
   "outputs": [
    {
     "data": {
      "image/png": "[encoded data removed]",
      "image/svg+xml": "<?xml version=\"1.0\" encoding=\"utf-8\" standalone=\"no\"?>\n<!DOCTYPE svg PUBLIC \"-//W3C//DTD SVG 1.1//EN\"\n  \"http://www.w3.org/Graphics/SVG/1.1/DTD/svg11.dtd\">\n<svg xmlns:xlink=\"http://www.w3.org/1999/xlink\" width=\"415.788507pt\" height=\"310.86825pt\" viewBox=\"0 0 415.788507 310.86825\" xmlns=\"http://www.w3.org/2000/svg\" version=\"1.1\">\n <metadata>\n  <rdf:RDF xmlns:dc=\"http://purl.org/dc/elements/1.1/\" xmlns:cc=\"http://creativecommons.org/ns#\" xmlns:rdf=\"http://www.w3.org/1999/02/22-rdf-syntax-ns#\">\n   <cc:Work>\n    <dc:type rdf:resource=\"http://purl.org/dc/dcmitype/StillImage\"/>\n    <dc:date>2022-10-23T22:32:27.629119</dc:date>\n    <dc:format>image/svg+xml</dc:format>\n    <dc:creator>\n     <cc:Agent>\n      <dc:title>Matplotlib v3.5.3, https://matplotlib.org/</dc:title>\n     </cc:Agent>\n    </dc:creator>\n   </cc:Work>\n  </rdf:RDF>\n </metadata>\n <defs>\n  <style type=\"text/css\">*{stroke-linejoin: round; stroke-linecap: butt}</style>\n </defs>\n <g id=\"figure_1\">\n  <g id=\"patch_1\">\n   <path d=\"M 0 310.86825 \nL 415.788507 310.86825 \nL 415.788507 0 \nL 0 0 \nz\n\" style=\"fill: #ffffff\"/>\n  </g>\n  <g id=\"axes_1\">\n   <g id=\"patch_2\">\n    <path d=\"M 50.14375 273.312 \nL 407.26375 273.312 \nL 407.26375 7.2 \nL 50.14375 7.2 \nz\n\" style=\"fill: #ffffff\"/>\n   </g>\n   <g id=\"matplotlib.axis_1\">\n    <g id=\"xtick_1\">\n     <g id=\"line2d_1\">\n      <defs>\n       <path id=\"mb115d91c30\" d=\"M 0 0 \nL 0 3.5 \n\" style=\"stroke: #000000; stroke-width: 0.8\"/>\n      </defs>\n      <g>\n       <use xlink:href=\"#mb115d91c30\" x=\"66.376477\" y=\"273.312\" style=\"stroke: #000000; stroke-width: 0.8\"/>\n      </g>\n     </g>\n     <g id=\"text_1\">\n      <!-- 0 -->\n      <g transform=\"translate(63.195227 287.910437)scale(0.1 -0.1)\">\n       <defs>\n        <path id=\"DejaVuSans-30\" d=\"M 2034 4250 \nQ 1547 4250 1301 3770 \nQ 1056 3291 1056 2328 \nQ 1056 1369 1301 889 \nQ 1547 409 2034 409 \nQ 2525 409 2770 889 \nQ 3016 1369 3016 2328 \nQ 3016 3291 2770 3770 \nQ 2525 4250 2034 4250 \nz\nM 2034 4750 \nQ 2819 4750 3233 4129 \nQ 3647 3509 3647 2328 \nQ 3647 1150 3233 529 \nQ 2819 -91 2034 -91 \nQ 1250 -91 836 529 \nQ 422 1150 422 2328 \nQ 422 3509 836 4129 \nQ 1250 4750 2034 4750 \nz\n\" transform=\"scale(0.015625)\"/>\n       </defs>\n       <use xlink:href=\"#DejaVuSans-30\"/>\n      </g>\n     </g>\n    </g>\n    <g id=\"xtick_2\">\n     <g id=\"line2d_2\">\n      <g>\n       <use xlink:href=\"#mb115d91c30\" x=\"122.351399\" y=\"273.312\" style=\"stroke: #000000; stroke-width: 0.8\"/>\n      </g>\n     </g>\n     <g id=\"text_2\">\n      <!-- 5 -->\n      <g transform=\"translate(119.170149 287.910437)scale(0.1 -0.1)\">\n       <defs>\n        <path id=\"DejaVuSans-35\" d=\"M 691 4666 \nL 3169 4666 \nL 3169 4134 \nL 1269 4134 \nL 1269 2991 \nQ 1406 3038 1543 3061 \nQ 1681 3084 1819 3084 \nQ 2600 3084 3056 2656 \nQ 3513 2228 3513 1497 \nQ 3513 744 3044 326 \nQ 2575 -91 1722 -91 \nQ 1428 -91 1123 -41 \nQ 819 9 494 109 \nL 494 744 \nQ 775 591 1075 516 \nQ 1375 441 1709 441 \nQ 2250 441 2565 725 \nQ 2881 1009 2881 1497 \nQ 2881 1984 2565 2268 \nQ 2250 2553 1709 2553 \nQ 1456 2553 1204 2497 \nQ 953 2441 691 2322 \nL 691 4666 \nz\n\" transform=\"scale(0.015625)\"/>\n       </defs>\n       <use xlink:href=\"#DejaVuSans-35\"/>\n      </g>\n     </g>\n    </g>\n    <g id=\"xtick_3\">\n     <g id=\"line2d_3\">\n      <g>\n       <use xlink:href=\"#mb115d91c30\" x=\"178.326321\" y=\"273.312\" style=\"stroke: #000000; stroke-width: 0.8\"/>\n      </g>\n     </g>\n     <g id=\"text_3\">\n      <!-- 10 -->\n      <g transform=\"translate(171.963821 287.910437)scale(0.1 -0.1)\">\n       <defs>\n        <path id=\"DejaVuSans-31\" d=\"M 794 531 \nL 1825 531 \nL 1825 4091 \nL 703 3866 \nL 703 4441 \nL 1819 4666 \nL 2450 4666 \nL 2450 531 \nL 3481 531 \nL 3481 0 \nL 794 0 \nL 794 531 \nz\n\" transform=\"scale(0.015625)\"/>\n       </defs>\n       <use xlink:href=\"#DejaVuSans-31\"/>\n       <use xlink:href=\"#DejaVuSans-30\" x=\"63.623047\"/>\n      </g>\n     </g>\n    </g>\n    <g id=\"xtick_4\">\n     <g id=\"line2d_4\">\n      <g>\n       <use xlink:href=\"#mb115d91c30\" x=\"234.301242\" y=\"273.312\" style=\"stroke: #000000; stroke-width: 0.8\"/>\n      </g>\n     </g>\n     <g id=\"text_4\">\n      <!-- 15 -->\n      <g transform=\"translate(227.938742 287.910437)scale(0.1 -0.1)\">\n       <use xlink:href=\"#DejaVuSans-31\"/>\n       <use xlink:href=\"#DejaVuSans-35\" x=\"63.623047\"/>\n      </g>\n     </g>\n    </g>\n    <g id=\"xtick_5\">\n     <g id=\"line2d_5\">\n      <g>\n       <use xlink:href=\"#mb115d91c30\" x=\"290.276164\" y=\"273.312\" style=\"stroke: #000000; stroke-width: 0.8\"/>\n      </g>\n     </g>\n     <g id=\"text_5\">\n      <!-- 20 -->\n      <g transform=\"translate(283.913664 287.910437)scale(0.1 -0.1)\">\n       <defs>\n        <path id=\"DejaVuSans-32\" d=\"M 1228 531 \nL 3431 531 \nL 3431 0 \nL 469 0 \nL 469 531 \nQ 828 903 1448 1529 \nQ 2069 2156 2228 2338 \nQ 2531 2678 2651 2914 \nQ 2772 3150 2772 3378 \nQ 2772 3750 2511 3984 \nQ 2250 4219 1831 4219 \nQ 1534 4219 1204 4116 \nQ 875 4013 500 3803 \nL 500 4441 \nQ 881 4594 1212 4672 \nQ 1544 4750 1819 4750 \nQ 2544 4750 2975 4387 \nQ 3406 4025 3406 3419 \nQ 3406 3131 3298 2873 \nQ 3191 2616 2906 2266 \nQ 2828 2175 2409 1742 \nQ 1991 1309 1228 531 \nz\n\" transform=\"scale(0.015625)\"/>\n       </defs>\n       <use xlink:href=\"#DejaVuSans-32\"/>\n       <use xlink:href=\"#DejaVuSans-30\" x=\"63.623047\"/>\n      </g>\n     </g>\n    </g>\n    <g id=\"xtick_6\">\n     <g id=\"line2d_6\">\n      <g>\n       <use xlink:href=\"#mb115d91c30\" x=\"346.251085\" y=\"273.312\" style=\"stroke: #000000; stroke-width: 0.8\"/>\n      </g>\n     </g>\n     <g id=\"text_6\">\n      <!-- 25 -->\n      <g transform=\"translate(339.888585 287.910437)scale(0.1 -0.1)\">\n       <use xlink:href=\"#DejaVuSans-32\"/>\n       <use xlink:href=\"#DejaVuSans-35\" x=\"63.623047\"/>\n      </g>\n     </g>\n    </g>\n    <g id=\"xtick_7\">\n     <g id=\"line2d_7\">\n      <g>\n       <use xlink:href=\"#mb115d91c30\" x=\"402.226007\" y=\"273.312\" style=\"stroke: #000000; stroke-width: 0.8\"/>\n      </g>\n     </g>\n     <g id=\"text_7\">\n      <!-- 30 -->\n      <g transform=\"translate(395.863507 287.910437)scale(0.1 -0.1)\">\n       <defs>\n        <path id=\"DejaVuSans-33\" d=\"M 2597 2516 \nQ 3050 2419 3304 2112 \nQ 3559 1806 3559 1356 \nQ 3559 666 3084 287 \nQ 2609 -91 1734 -91 \nQ 1441 -91 1130 -33 \nQ 819 25 488 141 \nL 488 750 \nQ 750 597 1062 519 \nQ 1375 441 1716 441 \nQ 2309 441 2620 675 \nQ 2931 909 2931 1356 \nQ 2931 1769 2642 2001 \nQ 2353 2234 1838 2234 \nL 1294 2234 \nL 1294 2753 \nL 1863 2753 \nQ 2328 2753 2575 2939 \nQ 2822 3125 2822 3475 \nQ 2822 3834 2567 4026 \nQ 2313 4219 1838 4219 \nQ 1578 4219 1281 4162 \nQ 984 4106 628 3988 \nL 628 4550 \nQ 988 4650 1302 4700 \nQ 1616 4750 1894 4750 \nQ 2613 4750 3031 4423 \nQ 3450 4097 3450 3541 \nQ 3450 3153 3228 2886 \nQ 3006 2619 2597 2516 \nz\n\" transform=\"scale(0.015625)\"/>\n       </defs>\n       <use xlink:href=\"#DejaVuSans-33\"/>\n       <use xlink:href=\"#DejaVuSans-30\" x=\"63.623047\"/>\n      </g>\n     </g>\n    </g>\n    <g id=\"text_8\">\n     <!-- Epochs -->\n     <g transform=\"translate(210.788125 301.588562)scale(0.1 -0.1)\">\n      <defs>\n       <path id=\"DejaVuSans-45\" d=\"M 628 4666 \nL 3578 4666 \nL 3578 4134 \nL 1259 4134 \nL 1259 2753 \nL 3481 2753 \nL 3481 2222 \nL 1259 2222 \nL 1259 531 \nL 3634 531 \nL 3634 0 \nL 628 0 \nL 628 4666 \nz\n\" transform=\"scale(0.015625)\"/>\n       <path id=\"DejaVuSans-70\" d=\"M 1159 525 \nL 1159 -1331 \nL 581 -1331 \nL 581 3500 \nL 1159 3500 \nL 1159 2969 \nQ 1341 3281 1617 3432 \nQ 1894 3584 2278 3584 \nQ 2916 3584 3314 3078 \nQ 3713 2572 3713 1747 \nQ 3713 922 3314 415 \nQ 2916 -91 2278 -91 \nQ 1894 -91 1617 61 \nQ 1341 213 1159 525 \nz\nM 3116 1747 \nQ 3116 2381 2855 2742 \nQ 2594 3103 2138 3103 \nQ 1681 3103 1420 2742 \nQ 1159 2381 1159 1747 \nQ 1159 1113 1420 752 \nQ 1681 391 2138 391 \nQ 2594 391 2855 752 \nQ 3116 1113 3116 1747 \nz\n\" transform=\"scale(0.015625)\"/>\n       <path id=\"DejaVuSans-6f\" d=\"M 1959 3097 \nQ 1497 3097 1228 2736 \nQ 959 2375 959 1747 \nQ 959 1119 1226 758 \nQ 1494 397 1959 397 \nQ 2419 397 2687 759 \nQ 2956 1122 2956 1747 \nQ 2956 2369 2687 2733 \nQ 2419 3097 1959 3097 \nz\nM 1959 3584 \nQ 2709 3584 3137 3096 \nQ 3566 2609 3566 1747 \nQ 3566 888 3137 398 \nQ 2709 -91 1959 -91 \nQ 1206 -91 779 398 \nQ 353 888 353 1747 \nQ 353 2609 779 3096 \nQ 1206 3584 1959 3584 \nz\n\" transform=\"scale(0.015625)\"/>\n       <path id=\"DejaVuSans-63\" d=\"M 3122 3366 \nL 3122 2828 \nQ 2878 2963 2633 3030 \nQ 2388 3097 2138 3097 \nQ 1578 3097 1268 2742 \nQ 959 2388 959 1747 \nQ 959 1106 1268 751 \nQ 1578 397 2138 397 \nQ 2388 397 2633 464 \nQ 2878 531 3122 666 \nL 3122 134 \nQ 2881 22 2623 -34 \nQ 2366 -91 2075 -91 \nQ 1284 -91 818 406 \nQ 353 903 353 1747 \nQ 353 2603 823 3093 \nQ 1294 3584 2113 3584 \nQ 2378 3584 2631 3529 \nQ 2884 3475 3122 3366 \nz\n\" transform=\"scale(0.015625)\"/>\n       <path id=\"DejaVuSans-68\" d=\"M 3513 2113 \nL 3513 0 \nL 2938 0 \nL 2938 2094 \nQ 2938 2591 2744 2837 \nQ 2550 3084 2163 3084 \nQ 1697 3084 1428 2787 \nQ 1159 2491 1159 1978 \nL 1159 0 \nL 581 0 \nL 581 4863 \nL 1159 4863 \nL 1159 2956 \nQ 1366 3272 1645 3428 \nQ 1925 3584 2291 3584 \nQ 2894 3584 3203 3211 \nQ 3513 2838 3513 2113 \nz\n\" transform=\"scale(0.015625)\"/>\n       <path id=\"DejaVuSans-73\" d=\"M 2834 3397 \nL 2834 2853 \nQ 2591 2978 2328 3040 \nQ 2066 3103 1784 3103 \nQ 1356 3103 1142 2972 \nQ 928 2841 928 2578 \nQ 928 2378 1081 2264 \nQ 1234 2150 1697 2047 \nL 1894 2003 \nQ 2506 1872 2764 1633 \nQ 3022 1394 3022 966 \nQ 3022 478 2636 193 \nQ 2250 -91 1575 -91 \nQ 1294 -91 989 -36 \nQ 684 19 347 128 \nL 347 722 \nQ 666 556 975 473 \nQ 1284 391 1588 391 \nQ 1994 391 2212 530 \nQ 2431 669 2431 922 \nQ 2431 1156 2273 1281 \nQ 2116 1406 1581 1522 \nL 1381 1569 \nQ 847 1681 609 1914 \nQ 372 2147 372 2553 \nQ 372 3047 722 3315 \nQ 1072 3584 1716 3584 \nQ 2034 3584 2315 3537 \nQ 2597 3491 2834 3397 \nz\n\" transform=\"scale(0.015625)\"/>\n      </defs>\n      <use xlink:href=\"#DejaVuSans-45\"/>\n      <use xlink:href=\"#DejaVuSans-70\" x=\"63.183594\"/>\n      <use xlink:href=\"#DejaVuSans-6f\" x=\"126.660156\"/>\n      <use xlink:href=\"#DejaVuSans-63\" x=\"187.841797\"/>\n      <use xlink:href=\"#DejaVuSans-68\" x=\"242.822266\"/>\n      <use xlink:href=\"#DejaVuSans-73\" x=\"306.201172\"/>\n     </g>\n    </g>\n   </g>\n   <g id=\"matplotlib.axis_2\">\n    <g id=\"ytick_1\">\n     <g id=\"line2d_8\">\n      <defs>\n       <path id=\"m833c614137\" d=\"M 0 0 \nL -3.5 0 \n\" style=\"stroke: #000000; stroke-width: 0.8\"/>\n      </defs>\n      <g>\n       <use xlink:href=\"#m833c614137\" x=\"50.14375\" y=\"258.268865\" style=\"stroke: #000000; stroke-width: 0.8\"/>\n      </g>\n     </g>\n     <g id=\"text_9\">\n      <!-- 0.07 -->\n      <g transform=\"translate(20.878125 262.068084)scale(0.1 -0.1)\">\n       <defs>\n        <path id=\"DejaVuSans-2e\" d=\"M 684 794 \nL 1344 794 \nL 1344 0 \nL 684 0 \nL 684 794 \nz\n\" transform=\"scale(0.015625)\"/>\n        <path id=\"DejaVuSans-37\" d=\"M 525 4666 \nL 3525 4666 \nL 3525 4397 \nL 1831 0 \nL 1172 0 \nL 2766 4134 \nL 525 4134 \nL 525 4666 \nz\n\" transform=\"scale(0.015625)\"/>\n       </defs>\n       <use xlink:href=\"#DejaVuSans-30\"/>\n       <use xlink:href=\"#DejaVuSans-2e\" x=\"63.623047\"/>\n       <use xlink:href=\"#DejaVuSans-30\" x=\"95.410156\"/>\n       <use xlink:href=\"#DejaVuSans-37\" x=\"159.033203\"/>\n      </g>\n     </g>\n    </g>\n    <g id=\"ytick_2\">\n     <g id=\"line2d_9\">\n      <g>\n       <use xlink:href=\"#m833c614137\" x=\"50.14375\" y=\"211.872375\" style=\"stroke: #000000; stroke-width: 0.8\"/>\n      </g>\n     </g>\n     <g id=\"text_10\">\n      <!-- 0.08 -->\n      <g transform=\"translate(20.878125 215.671594)scale(0.1 -0.1)\">\n       <defs>\n        <path id=\"DejaVuSans-38\" d=\"M 2034 2216 \nQ 1584 2216 1326 1975 \nQ 1069 1734 1069 1313 \nQ 1069 891 1326 650 \nQ 1584 409 2034 409 \nQ 2484 409 2743 651 \nQ 3003 894 3003 1313 \nQ 3003 1734 2745 1975 \nQ 2488 2216 2034 2216 \nz\nM 1403 2484 \nQ 997 2584 770 2862 \nQ 544 3141 544 3541 \nQ 544 4100 942 4425 \nQ 1341 4750 2034 4750 \nQ 2731 4750 3128 4425 \nQ 3525 4100 3525 3541 \nQ 3525 3141 3298 2862 \nQ 3072 2584 2669 2484 \nQ 3125 2378 3379 2068 \nQ 3634 1759 3634 1313 \nQ 3634 634 3220 271 \nQ 2806 -91 2034 -91 \nQ 1263 -91 848 271 \nQ 434 634 434 1313 \nQ 434 1759 690 2068 \nQ 947 2378 1403 2484 \nz\nM 1172 3481 \nQ 1172 3119 1398 2916 \nQ 1625 2713 2034 2713 \nQ 2441 2713 2670 2916 \nQ 2900 3119 2900 3481 \nQ 2900 3844 2670 4047 \nQ 2441 4250 2034 4250 \nQ 1625 4250 1398 4047 \nQ 1172 3844 1172 3481 \nz\n\" transform=\"scale(0.015625)\"/>\n       </defs>\n       <use xlink:href=\"#DejaVuSans-30\"/>\n       <use xlink:href=\"#DejaVuSans-2e\" x=\"63.623047\"/>\n       <use xlink:href=\"#DejaVuSans-30\" x=\"95.410156\"/>\n       <use xlink:href=\"#DejaVuSans-38\" x=\"159.033203\"/>\n      </g>\n     </g>\n    </g>\n    <g id=\"ytick_3\">\n     <g id=\"line2d_10\">\n      <g>\n       <use xlink:href=\"#m833c614137\" x=\"50.14375\" y=\"165.475885\" style=\"stroke: #000000; stroke-width: 0.8\"/>\n      </g>\n     </g>\n     <g id=\"text_11\">\n      <!-- 0.09 -->\n      <g transform=\"translate(20.878125 169.275103)scale(0.1 -0.1)\">\n       <defs>\n        <path id=\"DejaVuSans-39\" d=\"M 703 97 \nL 703 672 \nQ 941 559 1184 500 \nQ 1428 441 1663 441 \nQ 2288 441 2617 861 \nQ 2947 1281 2994 2138 \nQ 2813 1869 2534 1725 \nQ 2256 1581 1919 1581 \nQ 1219 1581 811 2004 \nQ 403 2428 403 3163 \nQ 403 3881 828 4315 \nQ 1253 4750 1959 4750 \nQ 2769 4750 3195 4129 \nQ 3622 3509 3622 2328 \nQ 3622 1225 3098 567 \nQ 2575 -91 1691 -91 \nQ 1453 -91 1209 -44 \nQ 966 3 703 97 \nz\nM 1959 2075 \nQ 2384 2075 2632 2365 \nQ 2881 2656 2881 3163 \nQ 2881 3666 2632 3958 \nQ 2384 4250 1959 4250 \nQ 1534 4250 1286 3958 \nQ 1038 3666 1038 3163 \nQ 1038 2656 1286 2365 \nQ 1534 2075 1959 2075 \nz\n\" transform=\"scale(0.015625)\"/>\n       </defs>\n       <use xlink:href=\"#DejaVuSans-30\"/>\n       <use xlink:href=\"#DejaVuSans-2e\" x=\"63.623047\"/>\n       <use xlink:href=\"#DejaVuSans-30\" x=\"95.410156\"/>\n       <use xlink:href=\"#DejaVuSans-39\" x=\"159.033203\"/>\n      </g>\n     </g>\n    </g>\n    <g id=\"ytick_4\">\n     <g id=\"line2d_11\">\n      <g>\n       <use xlink:href=\"#m833c614137\" x=\"50.14375\" y=\"119.079394\" style=\"stroke: #000000; stroke-width: 0.8\"/>\n      </g>\n     </g>\n     <g id=\"text_12\">\n      <!-- 0.10 -->\n      <g transform=\"translate(20.878125 122.878613)scale(0.1 -0.1)\">\n       <use xlink:href=\"#DejaVuSans-30\"/>\n       <use xlink:href=\"#DejaVuSans-2e\" x=\"63.623047\"/>\n       <use xlink:href=\"#DejaVuSans-31\" x=\"95.410156\"/>\n       <use xlink:href=\"#DejaVuSans-30\" x=\"159.033203\"/>\n      </g>\n     </g>\n    </g>\n    <g id=\"ytick_5\">\n     <g id=\"line2d_12\">\n      <g>\n       <use xlink:href=\"#m833c614137\" x=\"50.14375\" y=\"72.682904\" style=\"stroke: #000000; stroke-width: 0.8\"/>\n      </g>\n     </g>\n     <g id=\"text_13\">\n      <!-- 0.11 -->\n      <g transform=\"translate(20.878125 76.482123)scale(0.1 -0.1)\">\n       <use xlink:href=\"#DejaVuSans-30\"/>\n       <use xlink:href=\"#DejaVuSans-2e\" x=\"63.623047\"/>\n       <use xlink:href=\"#DejaVuSans-31\" x=\"95.410156\"/>\n       <use xlink:href=\"#DejaVuSans-31\" x=\"159.033203\"/>\n      </g>\n     </g>\n    </g>\n    <g id=\"ytick_6\">\n     <g id=\"line2d_13\">\n      <g>\n       <use xlink:href=\"#m833c614137\" x=\"50.14375\" y=\"26.286414\" style=\"stroke: #000000; stroke-width: 0.8\"/>\n      </g>\n     </g>\n     <g id=\"text_14\">\n      <!-- 0.12 -->\n      <g transform=\"translate(20.878125 30.085632)scale(0.1 -0.1)\">\n       <use xlink:href=\"#DejaVuSans-30\"/>\n       <use xlink:href=\"#DejaVuSans-2e\" x=\"63.623047\"/>\n       <use xlink:href=\"#DejaVuSans-31\" x=\"95.410156\"/>\n       <use xlink:href=\"#DejaVuSans-32\" x=\"159.033203\"/>\n      </g>\n     </g>\n    </g>\n    <g id=\"text_15\">\n     <!-- MSLE Loss -->\n     <g transform=\"translate(14.798438 166.245844)rotate(-90)scale(0.1 -0.1)\">\n      <defs>\n       <path id=\"DejaVuSans-4d\" d=\"M 628 4666 \nL 1569 4666 \nL 2759 1491 \nL 3956 4666 \nL 4897 4666 \nL 4897 0 \nL 4281 0 \nL 4281 4097 \nL 3078 897 \nL 2444 897 \nL 1241 4097 \nL 1241 0 \nL 628 0 \nL 628 4666 \nz\n\" transform=\"scale(0.015625)\"/>\n       <path id=\"DejaVuSans-53\" d=\"M 3425 4513 \nL 3425 3897 \nQ 3066 4069 2747 4153 \nQ 2428 4238 2131 4238 \nQ 1616 4238 1336 4038 \nQ 1056 3838 1056 3469 \nQ 1056 3159 1242 3001 \nQ 1428 2844 1947 2747 \nL 2328 2669 \nQ 3034 2534 3370 2195 \nQ 3706 1856 3706 1288 \nQ 3706 609 3251 259 \nQ 2797 -91 1919 -91 \nQ 1588 -91 1214 -16 \nQ 841 59 441 206 \nL 441 856 \nQ 825 641 1194 531 \nQ 1563 422 1919 422 \nQ 2459 422 2753 634 \nQ 3047 847 3047 1241 \nQ 3047 1584 2836 1778 \nQ 2625 1972 2144 2069 \nL 1759 2144 \nQ 1053 2284 737 2584 \nQ 422 2884 422 3419 \nQ 422 4038 858 4394 \nQ 1294 4750 2059 4750 \nQ 2388 4750 2728 4690 \nQ 3069 4631 3425 4513 \nz\n\" transform=\"scale(0.015625)\"/>\n       <path id=\"DejaVuSans-4c\" d=\"M 628 4666 \nL 1259 4666 \nL 1259 531 \nL 3531 531 \nL 3531 0 \nL 628 0 \nL 628 4666 \nz\n\" transform=\"scale(0.015625)\"/>\n       <path id=\"DejaVuSans-20\" transform=\"scale(0.015625)\"/>\n      </defs>\n      <use xlink:href=\"#DejaVuSans-4d\"/>\n      <use xlink:href=\"#DejaVuSans-53\" x=\"86.279297\"/>\n      <use xlink:href=\"#DejaVuSans-4c\" x=\"149.755859\"/>\n      <use xlink:href=\"#DejaVuSans-45\" x=\"205.46875\"/>\n      <use xlink:href=\"#DejaVuSans-20\" x=\"268.652344\"/>\n      <use xlink:href=\"#DejaVuSans-4c\" x=\"300.439453\"/>\n      <use xlink:href=\"#DejaVuSans-6f\" x=\"354.402344\"/>\n      <use xlink:href=\"#DejaVuSans-73\" x=\"415.583984\"/>\n      <use xlink:href=\"#DejaVuSans-73\" x=\"467.683594\"/>\n     </g>\n    </g>\n   </g>\n   <g id=\"line2d_14\">\n    <path d=\"M 66.376477 19.296 \nL 77.571462 31.867304 \nL 88.766446 45.571197 \nL 99.96143 61.622262 \nL 111.156415 78.437801 \nL 122.351399 95.909164 \nL 133.546383 112.678001 \nL 144.741368 127.5383 \nL 155.936352 142.157555 \nL 167.131336 153.304067 \nL 178.326321 164.350055 \nL 189.521305 171.282648 \nL 200.716289 180.828312 \nL 211.911274 187.054922 \nL 223.106258 193.054143 \nL 234.301242 199.594424 \nL 245.496226 205.951321 \nL 256.691211 210.410015 \nL 267.886195 214.266257 \nL 279.081179 218.278712 \nL 290.276164 222.413712 \nL 301.471148 225.101933 \nL 312.666132 228.052076 \nL 323.861117 231.173194 \nL 335.056101 235.671538 \nL 346.251085 238.535849 \nL 357.44607 242.177285 \nL 368.641054 245.382748 \nL 379.836038 248.264654 \nL 391.031023 252.184571 \n\" clip-path=\"url(#p98721f9403)\" style=\"fill: none; stroke: #1f77b4; stroke-width: 1.5; stroke-linecap: square\"/>\n   </g>\n   <g id=\"line2d_15\">\n    <path d=\"M 66.376477 23.267319 \nL 77.571462 35.777645 \nL 88.766446 49.96117 \nL 99.96143 66.213491 \nL 111.156415 83.631793 \nL 122.351399 100.95963 \nL 133.546383 117.586219 \nL 144.741368 132.528133 \nL 155.936352 145.546575 \nL 167.131336 156.752233 \nL 178.326321 166.446885 \nL 189.521305 175.069409 \nL 200.716289 182.764747 \nL 211.911274 189.792852 \nL 223.106258 196.256772 \nL 234.301242 202.228822 \nL 245.496226 207.644949 \nL 256.691211 211.958147 \nL 267.886195 215.937451 \nL 279.081179 219.379291 \nL 290.276164 223.410724 \nL 301.471148 227.224758 \nL 312.666132 231.003119 \nL 323.861117 234.340667 \nL 335.056101 238.253531 \nL 346.251085 242.190421 \nL 357.44607 246.437904 \nL 368.641054 250.783043 \nL 379.836038 255.580262 \nL 391.031023 261.216 \n\" clip-path=\"url(#p98721f9403)\" style=\"fill: none; stroke: #ff7f0e; stroke-width: 1.5; stroke-linecap: square\"/>\n   </g>\n   <g id=\"patch_3\">\n    <path d=\"M 50.14375 273.312 \nL 50.14375 7.2 \n\" style=\"fill: none; stroke: #000000; stroke-width: 0.8; stroke-linejoin: miter; stroke-linecap: square\"/>\n   </g>\n   <g id=\"patch_4\">\n    <path d=\"M 407.26375 273.312 \nL 407.26375 7.2 \n\" style=\"fill: none; stroke: #000000; stroke-width: 0.8; stroke-linejoin: miter; stroke-linecap: square\"/>\n   </g>\n   <g id=\"patch_5\">\n    <path d=\"M 50.14375 273.312 \nL 407.26375 273.312 \n\" style=\"fill: none; stroke: #000000; stroke-width: 0.8; stroke-linejoin: miter; stroke-linecap: square\"/>\n   </g>\n   <g id=\"patch_6\">\n    <path d=\"M 50.14375 7.2 \nL 407.26375 7.2 \n\" style=\"fill: none; stroke: #000000; stroke-width: 0.8; stroke-linejoin: miter; stroke-linecap: square\"/>\n   </g>\n   <g id=\"legend_1\">\n    <g id=\"patch_7\">\n     <path d=\"M 329.123125 44.834375 \nL 400.26375 44.834375 \nQ 402.26375 44.834375 402.26375 42.834375 \nL 402.26375 14.2 \nQ 402.26375 12.2 400.26375 12.2 \nL 329.123125 12.2 \nQ 327.123125 12.2 327.123125 14.2 \nL 327.123125 42.834375 \nQ 327.123125 44.834375 329.123125 44.834375 \nz\n\" style=\"fill: #ffffff; opacity: 0.8; stroke: #cccccc; stroke-linejoin: miter\"/>\n    </g>\n    <g id=\"line2d_16\">\n     <path d=\"M 331.123125 20.298437 \nL 341.123125 20.298437 \nL 351.123125 20.298437 \n\" style=\"fill: none; stroke: #1f77b4; stroke-width: 1.5; stroke-linecap: square\"/>\n    </g>\n    <g id=\"text_16\">\n     <!-- loss -->\n     <g transform=\"translate(359.123125 23.798437)scale(0.1 -0.1)\">\n      <defs>\n       <path id=\"DejaVuSans-6c\" d=\"M 603 4863 \nL 1178 4863 \nL 1178 0 \nL 603 0 \nL 603 4863 \nz\n\" transform=\"scale(0.015625)\"/>\n      </defs>\n      <use xlink:href=\"#DejaVuSans-6c\"/>\n      <use xlink:href=\"#DejaVuSans-6f\" x=\"27.783203\"/>\n      <use xlink:href=\"#DejaVuSans-73\" x=\"88.964844\"/>\n      <use xlink:href=\"#DejaVuSans-73\" x=\"141.064453\"/>\n     </g>\n    </g>\n    <g id=\"line2d_17\">\n     <path d=\"M 331.123125 34.976562 \nL 341.123125 34.976562 \nL 351.123125 34.976562 \n\" style=\"fill: none; stroke: #ff7f0e; stroke-width: 1.5; stroke-linecap: square\"/>\n    </g>\n    <g id=\"text_17\">\n     <!-- val_loss -->\n     <g transform=\"translate(359.123125 38.476562)scale(0.1 -0.1)\">\n      <defs>\n       <path id=\"DejaVuSans-76\" d=\"M 191 3500 \nL 800 3500 \nL 1894 563 \nL 2988 3500 \nL 3597 3500 \nL 2284 0 \nL 1503 0 \nL 191 3500 \nz\n\" transform=\"scale(0.015625)\"/>\n       <path id=\"DejaVuSans-61\" d=\"M 2194 1759 \nQ 1497 1759 1228 1600 \nQ 959 1441 959 1056 \nQ 959 750 1161 570 \nQ 1363 391 1709 391 \nQ 2188 391 2477 730 \nQ 2766 1069 2766 1631 \nL 2766 1759 \nL 2194 1759 \nz\nM 3341 1997 \nL 3341 0 \nL 2766 0 \nL 2766 531 \nQ 2569 213 2275 61 \nQ 1981 -91 1556 -91 \nQ 1019 -91 701 211 \nQ 384 513 384 1019 \nQ 384 1609 779 1909 \nQ 1175 2209 1959 2209 \nL 2766 2209 \nL 2766 2266 \nQ 2766 2663 2505 2880 \nQ 2244 3097 1772 3097 \nQ 1472 3097 1187 3025 \nQ 903 2953 641 2809 \nL 641 3341 \nQ 956 3463 1253 3523 \nQ 1550 3584 1831 3584 \nQ 2591 3584 2966 3190 \nQ 3341 2797 3341 1997 \nz\n\" transform=\"scale(0.015625)\"/>\n       <path id=\"DejaVuSans-5f\" d=\"M 3263 -1063 \nL 3263 -1509 \nL -63 -1509 \nL -63 -1063 \nL 3263 -1063 \nz\n\" transform=\"scale(0.015625)\"/>\n      </defs>\n      <use xlink:href=\"#DejaVuSans-76\"/>\n      <use xlink:href=\"#DejaVuSans-61\" x=\"59.179688\"/>\n      <use xlink:href=\"#DejaVuSans-6c\" x=\"120.458984\"/>\n      <use xlink:href=\"#DejaVuSans-5f\" x=\"148.242188\"/>\n      <use xlink:href=\"#DejaVuSans-6c\" x=\"198.242188\"/>\n      <use xlink:href=\"#DejaVuSans-6f\" x=\"226.025391\"/>\n      <use xlink:href=\"#DejaVuSans-73\" x=\"287.207031\"/>\n      <use xlink:href=\"#DejaVuSans-73\" x=\"339.306641\"/>\n     </g>\n    </g>\n   </g>\n  </g>\n </g>\n <defs>\n  <clipPath id=\"p98721f9403\">\n   <rect x=\"50.14375\" y=\"7.2\" width=\"357.12\" height=\"266.112\"/>\n  </clipPath>\n </defs>\n</svg>\n",
      "text/plain": [
       "<Figure size 640x480 with 1 Axes>"
      ]
     },
     "metadata": {},
     "output_type": "display_data"
    }
   ],
   "source": [
    "plt.plot(history.history['loss'])\n",
    "plt.plot(history.history['val_loss'])\n",
    "plt.xlabel('Epochs')\n",
    "plt.ylabel('MSLE Loss')\n",
    "plt.legend(['loss', 'val_loss'])\n",
    "plt.show()"
   ]
  },
  {
   "cell_type": "code",
   "execution_count": 28,
   "metadata": {},
   "outputs": [
    {
     "ename": "AttributeError",
     "evalue": "'tuple' object has no attribute 'rank'",
     "output_type": "error",
     "traceback": [
      "\u001b[0;31m---------------------------------------------------------------------------\u001b[0m",
      "\u001b[0;31mAttributeError\u001b[0m                            Traceback (most recent call last)",
      "Cell \u001b[0;32mIn [28], line 11\u001b[0m\n\u001b[1;32m      8\u001b[0m     plt\u001b[39m.\u001b[39mlegend(labels\u001b[39m=\u001b[39m[\u001b[39m'\u001b[39m\u001b[39mInput\u001b[39m\u001b[39m'\u001b[39m, \u001b[39m'\u001b[39m\u001b[39mReconstruction\u001b[39m\u001b[39m'\u001b[39m, \u001b[39m'\u001b[39m\u001b[39mError\u001b[39m\u001b[39m'\u001b[39m])\n\u001b[1;32m      9\u001b[0m     plt\u001b[39m.\u001b[39mshow()\n\u001b[0;32m---> 11\u001b[0m plot(X_test_anomaly, \u001b[39m0\u001b[39m)\n\u001b[1;32m     12\u001b[0m plot(X_test_non_anomaly, \u001b[39m0\u001b[39m)\n",
      "Cell \u001b[0;32mIn [28], line 3\u001b[0m, in \u001b[0;36mplot\u001b[0;34m(data, n)\u001b[0m\n\u001b[1;32m      2\u001b[0m \u001b[39mdef\u001b[39;00m \u001b[39mplot\u001b[39m(data, n):\n\u001b[0;32m----> 3\u001b[0m     enc_img \u001b[39m=\u001b[39m model\u001b[39m.\u001b[39;49mencoder(data)\n\u001b[1;32m      4\u001b[0m     dec_img \u001b[39m=\u001b[39m model\u001b[39m.\u001b[39mdecoder(enc_img)\n\u001b[1;32m      5\u001b[0m     plt\u001b[39m.\u001b[39mplot(data[n], \u001b[39m'\u001b[39m\u001b[39mb\u001b[39m\u001b[39m'\u001b[39m)\n",
      "File \u001b[0;32m~/miniforge3/envs/tf25/lib/python3.9/site-packages/tensorflow/python/keras/engine/base_layer.py:1013\u001b[0m, in \u001b[0;36mLayer.__call__\u001b[0;34m(self, *args, **kwargs)\u001b[0m\n\u001b[1;32m   1006\u001b[0m eager \u001b[39m=\u001b[39m context\u001b[39m.\u001b[39mexecuting_eagerly()\n\u001b[1;32m   1007\u001b[0m \u001b[39mwith\u001b[39;00m call_context\u001b[39m.\u001b[39menter(\n\u001b[1;32m   1008\u001b[0m     layer\u001b[39m=\u001b[39m\u001b[39mself\u001b[39m,\n\u001b[1;32m   1009\u001b[0m     inputs\u001b[39m=\u001b[39minputs,\n\u001b[1;32m   1010\u001b[0m     build_graph\u001b[39m=\u001b[39m\u001b[39mnot\u001b[39;00m eager,\n\u001b[1;32m   1011\u001b[0m     training\u001b[39m=\u001b[39mtraining_mode):\n\u001b[0;32m-> 1013\u001b[0m   input_spec\u001b[39m.\u001b[39;49massert_input_compatibility(\u001b[39mself\u001b[39;49m\u001b[39m.\u001b[39;49minput_spec, inputs, \u001b[39mself\u001b[39;49m\u001b[39m.\u001b[39;49mname)\n\u001b[1;32m   1014\u001b[0m   \u001b[39mif\u001b[39;00m eager:\n\u001b[1;32m   1015\u001b[0m     call_fn \u001b[39m=\u001b[39m \u001b[39mself\u001b[39m\u001b[39m.\u001b[39mcall\n",
      "File \u001b[0;32m~/miniforge3/envs/tf25/lib/python3.9/site-packages/tensorflow/python/keras/engine/input_spec.py:228\u001b[0m, in \u001b[0;36massert_input_compatibility\u001b[0;34m(input_spec, inputs, layer_name)\u001b[0m\n\u001b[1;32m    223\u001b[0m     \u001b[39mraise\u001b[39;00m \u001b[39mValueError\u001b[39;00m(\u001b[39m'\u001b[39m\u001b[39mInput \u001b[39m\u001b[39m'\u001b[39m \u001b[39m+\u001b[39m \u001b[39mstr\u001b[39m(input_index) \u001b[39m+\u001b[39m \u001b[39m'\u001b[39m\u001b[39m of layer \u001b[39m\u001b[39m'\u001b[39m \u001b[39m+\u001b[39m\n\u001b[1;32m    224\u001b[0m                      layer_name \u001b[39m+\u001b[39m \u001b[39m'\u001b[39m\u001b[39m is incompatible with the layer: \u001b[39m\u001b[39m'\u001b[39m\n\u001b[1;32m    225\u001b[0m                      \u001b[39m'\u001b[39m\u001b[39mexpected max_ndim=\u001b[39m\u001b[39m'\u001b[39m \u001b[39m+\u001b[39m \u001b[39mstr\u001b[39m(spec\u001b[39m.\u001b[39mmax_ndim) \u001b[39m+\u001b[39m\n\u001b[1;32m    226\u001b[0m                      \u001b[39m'\u001b[39m\u001b[39m, found ndim=\u001b[39m\u001b[39m'\u001b[39m \u001b[39m+\u001b[39m \u001b[39mstr\u001b[39m(ndim))\n\u001b[1;32m    227\u001b[0m \u001b[39mif\u001b[39;00m spec\u001b[39m.\u001b[39mmin_ndim \u001b[39mis\u001b[39;00m \u001b[39mnot\u001b[39;00m \u001b[39mNone\u001b[39;00m:\n\u001b[0;32m--> 228\u001b[0m   ndim \u001b[39m=\u001b[39m x\u001b[39m.\u001b[39;49mshape\u001b[39m.\u001b[39;49mrank\n\u001b[1;32m    229\u001b[0m   \u001b[39mif\u001b[39;00m ndim \u001b[39mis\u001b[39;00m \u001b[39mnot\u001b[39;00m \u001b[39mNone\u001b[39;00m \u001b[39mand\u001b[39;00m ndim \u001b[39m<\u001b[39m spec\u001b[39m.\u001b[39mmin_ndim:\n\u001b[1;32m    230\u001b[0m     \u001b[39mraise\u001b[39;00m \u001b[39mValueError\u001b[39;00m(\u001b[39m'\u001b[39m\u001b[39mInput \u001b[39m\u001b[39m'\u001b[39m \u001b[39m+\u001b[39m \u001b[39mstr\u001b[39m(input_index) \u001b[39m+\u001b[39m \u001b[39m'\u001b[39m\u001b[39m of layer \u001b[39m\u001b[39m'\u001b[39m \u001b[39m+\u001b[39m\n\u001b[1;32m    231\u001b[0m                      layer_name \u001b[39m+\u001b[39m \u001b[39m'\u001b[39m\u001b[39m is incompatible with the layer: \u001b[39m\u001b[39m'\u001b[39m\n\u001b[1;32m    232\u001b[0m                      \u001b[39m'\u001b[39m\u001b[39m: expected min_ndim=\u001b[39m\u001b[39m'\u001b[39m \u001b[39m+\u001b[39m \u001b[39mstr\u001b[39m(spec\u001b[39m.\u001b[39mmin_ndim) \u001b[39m+\u001b[39m\n\u001b[1;32m    233\u001b[0m                      \u001b[39m'\u001b[39m\u001b[39m, found ndim=\u001b[39m\u001b[39m'\u001b[39m \u001b[39m+\u001b[39m \u001b[39mstr\u001b[39m(ndim) \u001b[39m+\u001b[39m\n\u001b[1;32m    234\u001b[0m                      \u001b[39m'\u001b[39m\u001b[39m. Full shape received: \u001b[39m\u001b[39m'\u001b[39m \u001b[39m+\u001b[39m\n\u001b[1;32m    235\u001b[0m                      \u001b[39mstr\u001b[39m(\u001b[39mtuple\u001b[39m(shape)))\n",
      "\u001b[0;31mAttributeError\u001b[0m: 'tuple' object has no attribute 'rank'"
     ]
    }
   ],
   "source": [
    "#define a function in order to plot the original data and reconstructed ones and also show the error\n",
    "def plot(data, n):\n",
    "    enc_img = model.encoder(data)\n",
    "    dec_img = model.decoder(enc_img)\n",
    "    plt.plot(data[n], 'b')\n",
    "    plt.plot(dec_img[n], 'r')\n",
    "    plt.fill_between(np.arange(6), data[n], dec_img[n], color = 'lightcoral')\n",
    "    plt.legend(labels=['Input', 'Reconstruction', 'Error'])\n",
    "    plt.show()\n",
    "\n",
    "plot(X_test_anomaly, 0)\n",
    "plot(X_test_non_anomaly, 0)"
   ]
  },
  {
   "cell_type": "code",
   "execution_count": 19,
   "metadata": {},
   "outputs": [
    {
     "name": "stderr",
     "output_type": "stream",
     "text": [
      "2022-10-23 22:16:08.533712: I tensorflow/core/grappler/optimizers/custom_graph_optimizer_registry.cc:112] Plugin optimizer for device_type GPU is enabled.\n"
     ]
    },
    {
     "name": "stdout",
     "output_type": "stream",
     "text": [
      "Threshold: 0.03552712362958848\n"
     ]
    },
    {
     "data": {
      "text/plain": [
       "0.095"
      ]
     },
     "execution_count": 19,
     "metadata": {},
     "output_type": "execute_result"
    }
   ],
   "source": [
    "def find_threshold(model, x_train_scaled):\n",
    "    reconstructions = model.predict(x_train_scaled)\n",
    "    # provides losses of individual instances\n",
    "    reconstruction_errors = tf.keras.losses.msle(reconstructions, x_train_scaled)\n",
    "    # threshold for anomaly scores\n",
    "    threshold = np.mean(reconstruction_errors.numpy()) \\\n",
    "        + np.std(reconstruction_errors.numpy())\n",
    "    return threshold\n",
    "\n",
    "def get_predictions(model, x_test_scaled, threshold):\n",
    "    predictions = model.predict(x_test_scaled)\n",
    "    # provides losses of individual instances\n",
    "    errors = tf.keras.losses.msle(predictions, x_test_scaled)\n",
    "    # 0 = anomaly, 1 = normal\n",
    "    anomaly_mask = pd.Series(errors) > threshold\n",
    "    preds = anomaly_mask.map(lambda x: 0.0 if x == True else 1.0)\n",
    "    return preds\n",
    "\n",
    "threshold = find_threshold(model, X_train_non_anomaly)\n",
    "print(f\"Threshold: {threshold}\")\n",
    "predictions = get_predictions(model, X_test, threshold)\n",
    "accuracy_score(predictions, y_test)"
   ]
  },
  {
   "cell_type": "code",
   "execution_count": 29,
   "metadata": {},
   "outputs": [
    {
     "ename": "AttributeError",
     "evalue": "'tuple' object has no attribute 'rank'",
     "output_type": "error",
     "traceback": [
      "\u001b[0;31m---------------------------------------------------------------------------\u001b[0m",
      "\u001b[0;31mAttributeError\u001b[0m                            Traceback (most recent call last)",
      "Cell \u001b[0;32mIn [29], line 1\u001b[0m\n\u001b[0;32m----> 1\u001b[0m plot(X_test, \u001b[39m0\u001b[39m)\n\u001b[1;32m      2\u001b[0m plot(X_test, \u001b[39m4\u001b[39m)\n",
      "Cell \u001b[0;32mIn [28], line 3\u001b[0m, in \u001b[0;36mplot\u001b[0;34m(data, n)\u001b[0m\n\u001b[1;32m      2\u001b[0m \u001b[39mdef\u001b[39;00m \u001b[39mplot\u001b[39m(data, n):\n\u001b[0;32m----> 3\u001b[0m     enc_img \u001b[39m=\u001b[39m model\u001b[39m.\u001b[39;49mencoder(data)\n\u001b[1;32m      4\u001b[0m     dec_img \u001b[39m=\u001b[39m model\u001b[39m.\u001b[39mdecoder(enc_img)\n\u001b[1;32m      5\u001b[0m     plt\u001b[39m.\u001b[39mplot(data[n], \u001b[39m'\u001b[39m\u001b[39mb\u001b[39m\u001b[39m'\u001b[39m)\n",
      "File \u001b[0;32m~/miniforge3/envs/tf25/lib/python3.9/site-packages/tensorflow/python/keras/engine/base_layer.py:1013\u001b[0m, in \u001b[0;36mLayer.__call__\u001b[0;34m(self, *args, **kwargs)\u001b[0m\n\u001b[1;32m   1006\u001b[0m eager \u001b[39m=\u001b[39m context\u001b[39m.\u001b[39mexecuting_eagerly()\n\u001b[1;32m   1007\u001b[0m \u001b[39mwith\u001b[39;00m call_context\u001b[39m.\u001b[39menter(\n\u001b[1;32m   1008\u001b[0m     layer\u001b[39m=\u001b[39m\u001b[39mself\u001b[39m,\n\u001b[1;32m   1009\u001b[0m     inputs\u001b[39m=\u001b[39minputs,\n\u001b[1;32m   1010\u001b[0m     build_graph\u001b[39m=\u001b[39m\u001b[39mnot\u001b[39;00m eager,\n\u001b[1;32m   1011\u001b[0m     training\u001b[39m=\u001b[39mtraining_mode):\n\u001b[0;32m-> 1013\u001b[0m   input_spec\u001b[39m.\u001b[39;49massert_input_compatibility(\u001b[39mself\u001b[39;49m\u001b[39m.\u001b[39;49minput_spec, inputs, \u001b[39mself\u001b[39;49m\u001b[39m.\u001b[39;49mname)\n\u001b[1;32m   1014\u001b[0m   \u001b[39mif\u001b[39;00m eager:\n\u001b[1;32m   1015\u001b[0m     call_fn \u001b[39m=\u001b[39m \u001b[39mself\u001b[39m\u001b[39m.\u001b[39mcall\n",
      "File \u001b[0;32m~/miniforge3/envs/tf25/lib/python3.9/site-packages/tensorflow/python/keras/engine/input_spec.py:228\u001b[0m, in \u001b[0;36massert_input_compatibility\u001b[0;34m(input_spec, inputs, layer_name)\u001b[0m\n\u001b[1;32m    223\u001b[0m     \u001b[39mraise\u001b[39;00m \u001b[39mValueError\u001b[39;00m(\u001b[39m'\u001b[39m\u001b[39mInput \u001b[39m\u001b[39m'\u001b[39m \u001b[39m+\u001b[39m \u001b[39mstr\u001b[39m(input_index) \u001b[39m+\u001b[39m \u001b[39m'\u001b[39m\u001b[39m of layer \u001b[39m\u001b[39m'\u001b[39m \u001b[39m+\u001b[39m\n\u001b[1;32m    224\u001b[0m                      layer_name \u001b[39m+\u001b[39m \u001b[39m'\u001b[39m\u001b[39m is incompatible with the layer: \u001b[39m\u001b[39m'\u001b[39m\n\u001b[1;32m    225\u001b[0m                      \u001b[39m'\u001b[39m\u001b[39mexpected max_ndim=\u001b[39m\u001b[39m'\u001b[39m \u001b[39m+\u001b[39m \u001b[39mstr\u001b[39m(spec\u001b[39m.\u001b[39mmax_ndim) \u001b[39m+\u001b[39m\n\u001b[1;32m    226\u001b[0m                      \u001b[39m'\u001b[39m\u001b[39m, found ndim=\u001b[39m\u001b[39m'\u001b[39m \u001b[39m+\u001b[39m \u001b[39mstr\u001b[39m(ndim))\n\u001b[1;32m    227\u001b[0m \u001b[39mif\u001b[39;00m spec\u001b[39m.\u001b[39mmin_ndim \u001b[39mis\u001b[39;00m \u001b[39mnot\u001b[39;00m \u001b[39mNone\u001b[39;00m:\n\u001b[0;32m--> 228\u001b[0m   ndim \u001b[39m=\u001b[39m x\u001b[39m.\u001b[39;49mshape\u001b[39m.\u001b[39;49mrank\n\u001b[1;32m    229\u001b[0m   \u001b[39mif\u001b[39;00m ndim \u001b[39mis\u001b[39;00m \u001b[39mnot\u001b[39;00m \u001b[39mNone\u001b[39;00m \u001b[39mand\u001b[39;00m ndim \u001b[39m<\u001b[39m spec\u001b[39m.\u001b[39mmin_ndim:\n\u001b[1;32m    230\u001b[0m     \u001b[39mraise\u001b[39;00m \u001b[39mValueError\u001b[39;00m(\u001b[39m'\u001b[39m\u001b[39mInput \u001b[39m\u001b[39m'\u001b[39m \u001b[39m+\u001b[39m \u001b[39mstr\u001b[39m(input_index) \u001b[39m+\u001b[39m \u001b[39m'\u001b[39m\u001b[39m of layer \u001b[39m\u001b[39m'\u001b[39m \u001b[39m+\u001b[39m\n\u001b[1;32m    231\u001b[0m                      layer_name \u001b[39m+\u001b[39m \u001b[39m'\u001b[39m\u001b[39m is incompatible with the layer: \u001b[39m\u001b[39m'\u001b[39m\n\u001b[1;32m    232\u001b[0m                      \u001b[39m'\u001b[39m\u001b[39m: expected min_ndim=\u001b[39m\u001b[39m'\u001b[39m \u001b[39m+\u001b[39m \u001b[39mstr\u001b[39m(spec\u001b[39m.\u001b[39mmin_ndim) \u001b[39m+\u001b[39m\n\u001b[1;32m    233\u001b[0m                      \u001b[39m'\u001b[39m\u001b[39m, found ndim=\u001b[39m\u001b[39m'\u001b[39m \u001b[39m+\u001b[39m \u001b[39mstr\u001b[39m(ndim) \u001b[39m+\u001b[39m\n\u001b[1;32m    234\u001b[0m                      \u001b[39m'\u001b[39m\u001b[39m. Full shape received: \u001b[39m\u001b[39m'\u001b[39m \u001b[39m+\u001b[39m\n\u001b[1;32m    235\u001b[0m                      \u001b[39mstr\u001b[39m(\u001b[39mtuple\u001b[39m(shape)))\n",
      "\u001b[0;31mAttributeError\u001b[0m: 'tuple' object has no attribute 'rank'"
     ]
    }
   ],
   "source": [
    "plot(X_test, 0)\n",
    "plot(X_test, 4)"
   ]
  }
 ],
 "metadata": {
  "kernelspec": {
   "display_name": "tf25",
   "language": "python",
   "name": "python3"
  },
  "language_info": {
   "codemirror_mode": {
    "name": "ipython",
    "version": 3
   },
   "file_extension": ".py",
   "mimetype": "text/x-python",
   "name": "python",
   "nbconvert_exporter": "python",
   "pygments_lexer": "ipython3",
   "version": "3.9.10 | packaged by conda-forge | (main, Feb  1 2022, 21:27:43) \n[Clang 11.1.0 ]"
  },
  "orig_nbformat": 4,
  "vscode": {
   "interpreter": {
    "hash": "32b8582a6a317188b1b21a1addc55c3e93ba5302b85506ac8f3c8dfe71022194"
   }
  }
 },
 "nbformat": 4,
 "nbformat_minor": 2
}
